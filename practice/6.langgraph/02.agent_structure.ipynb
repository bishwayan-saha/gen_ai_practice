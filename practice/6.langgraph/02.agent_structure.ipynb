{
 "cells": [
  {
   "cell_type": "code",
   "execution_count": 1,
   "metadata": {},
   "outputs": [
    {
     "name": "stderr",
     "output_type": "stream",
     "text": [
      "/home/bishwayansaha99/langchain/venv/lib/python3.12/site-packages/tqdm/auto.py:21: TqdmWarning: IProgress not found. Please update jupyter and ipywidgets. See https://ipywidgets.readthedocs.io/en/stable/user_install.html\n",
      "  from .autonotebook import tqdm as notebook_tqdm\n"
     ]
    }
   ],
   "source": [
    "import operator\n",
    "from typing import Annotated, List, Literal, Sequence, TypedDict\n",
    "\n",
    "import tiktoken\n",
    "from dotenv import load_dotenv\n",
    "from IPython.display import Image, display\n",
    "from langchain_community.document_loaders import PyPDFLoader\n",
    "from langchain_community.tools import DuckDuckGoSearchRun, TavilySearchResults\n",
    "from langchain_community.vectorstores import Chroma\n",
    "from langchain_core.messages import BaseMessage, HumanMessage, SystemMessage\n",
    "from langchain_core.output_parsers import PydanticOutputParser, StrOutputParser\n",
    "from langchain_core.prompts import ChatPromptTemplate, MessagesPlaceholder\n",
    "from langchain_core.runnables import RunnablePassthrough\n",
    "from langchain_google_genai import (ChatGoogleGenerativeAI,\n",
    "                                    GoogleGenerativeAIEmbeddings)\n",
    "from langchain_groq import ChatGroq\n",
    "from langchain_ollama import OllamaLLM\n",
    "from langgraph.checkpoint.memory import MemorySaver\n",
    "from langgraph.graph import END, START, Graph, MessagesState, StateGraph\n",
    "from langgraph.graph.message import add_messages\n",
    "from langgraph.prebuilt import ToolNode, tools_condition\n",
    "from pydantic import BaseModel, Field\n",
    "\n",
    "from langchain.text_splitter import RecursiveCharacterTextSplitter\n",
    "from langchain.tools import tool"
   ]
  },
  {
   "cell_type": "code",
   "execution_count": 23,
   "metadata": {},
   "outputs": [],
   "source": [
    "load_dotenv()\n",
    "llama = OllamaLLM(model=\"llama3.2\")\n",
    "gemini = ChatGoogleGenerativeAI(model=\"gemini-1.5-flash\")\n",
    "groq_model = ChatGroq(model_name=\"gemma2-9b-it\")\n",
    "tavily_tool = TavilySearchResults()\n",
    "duck_tool = DuckDuckGoSearchRun()"
   ]
  },
  {
   "cell_type": "markdown",
   "metadata": {},
   "source": [
    "### 1. Langgraph with Structured Output"
   ]
  },
  {
   "cell_type": "code",
   "execution_count": 43,
   "metadata": {},
   "outputs": [],
   "source": [
    "class ProductDetails(BaseModel):\n",
    "    \"\"\"Represents the product name, price and the processor of a tech product\"\"\"\n",
    "    name: str = Field(..., description=\"Name of the product\")\n",
    "    processor: str = Field(..., description=\"Name of the processor used in the product\")\n",
    "    price: int = Field(..., description=\"Price of the product in Indian rupees\")\n",
    "\n",
    "class AgentState(MessagesState):\n",
    "    product: ProductDetails"
   ]
  },
  {
   "cell_type": "code",
   "execution_count": 44,
   "metadata": {},
   "outputs": [],
   "source": [
    "@tool\n",
    "def crawl_web(query: str):\n",
    "    \"\"\"search in web to find the product name, processor used and the price of the product \"\"\"\n",
    "    print(\"\\n===== Executing Tool =====\\n\")\n",
    "    response = duck_tool.invoke(query)\n",
    "    return response\n",
    "tools = [crawl_web]\n",
    "tool_node = ToolNode(tools=tools)\n"
   ]
  },
  {
   "cell_type": "code",
   "execution_count": 45,
   "metadata": {},
   "outputs": [],
   "source": [
    "groq_with_tools = groq_model.bind_tools(tools=tools)\n",
    "groq_with_structured_output = groq_model.with_structured_output(ProductDetails)\n",
    "\n",
    "def call_model(state: AgentState):\n",
    "    query = state[\"messages\"]\n",
    "    response = groq_with_tools.invoke(query)\n",
    "    return {\"messages\": [response]}\n",
    "\n",
    "def call_response(state: AgentState):\n",
    "    print(\"\\n===== Executing Response =====\\n\")\n",
    "    query = state[\"messages\"][-1].content\n",
    "    response = groq_with_structured_output.invoke([HumanMessage(content=query)])\n",
    "    print(response)\n",
    "    return {\"product_details\": response}"
   ]
  },
  {
   "cell_type": "code",
   "execution_count": 49,
   "metadata": {},
   "outputs": [],
   "source": [
    "def route_call(state: AgentState):\n",
    "    message = state[\"messages\"][-1]\n",
    "    print(f\"\\nFrom Route {message}\\n\")\n",
    "    if message.tool_calls:\n",
    "        return \"tools\"\n",
    "    return \"response\""
   ]
  },
  {
   "cell_type": "code",
   "execution_count": 50,
   "metadata": {},
   "outputs": [],
   "source": [
    "wf1 = StateGraph(AgentState)\n",
    "\n",
    "wf1.add_node(\"model\", call_model)\n",
    "wf1.add_node(\"tools\", tool_node)\n",
    "wf1.add_node(\"respond\", call_response)\n",
    "\n",
    "wf1.set_entry_point(\"model\")\n",
    "wf1.add_conditional_edges(\"model\", route_call, {\"tools\": \"tools\", \"response\": \"respond\"})\n",
    "wf1.add_edge(\"tools\", \"model\")\n",
    "wf1.set_finish_point(\"respond\")\n",
    "\n",
    "app1 = wf1.compile()"
   ]
  },
  {
   "cell_type": "code",
   "execution_count": 10,
   "metadata": {},
   "outputs": [
    {
     "data": {
      "image/png": "[encoded data removed]",
      "text/plain": [
       "<IPython.core.display.Image object>"
      ]
     },
     "metadata": {},
     "output_type": "display_data"
    }
   ],
   "source": [
    "display(Image(app1.get_graph().draw_mermaid_png()))"
   ]
  },
  {
   "cell_type": "code",
   "execution_count": 51,
   "metadata": {},
   "outputs": [
    {
     "name": "stdout",
     "output_type": "stream",
     "text": [
      "\n",
      "From Route content='' additional_kwargs={'tool_calls': [{'id': 'call_sf5k', 'function': {'arguments': '{\"query\":\"details of Macbook Air M1\"}', 'name': 'crawl_web'}, 'type': 'function'}]} response_metadata={'token_usage': {'completion_tokens': 87, 'prompt_tokens': 956, 'total_tokens': 1043, 'completion_time': 0.158181818, 'prompt_time': 0.038909583, 'queue_time': 0.020387958000000005, 'total_time': 0.197091401}, 'model_name': 'gemma2-9b-it', 'system_fingerprint': 'fp_10c08bf97d', 'finish_reason': 'tool_calls', 'logprobs': None} id='run-5c709125-876c-453c-bb30-efaf1543b711-0' tool_calls=[{'name': 'crawl_web', 'args': {'query': 'details of Macbook Air M1'}, 'id': 'call_sf5k', 'type': 'tool_call'}] usage_metadata={'input_tokens': 956, 'output_tokens': 87, 'total_tokens': 1043}\n",
      "\n",
      "\n",
      "===== Executing Tool =====\n",
      "\n"
     ]
    },
    {
     "name": "stderr",
     "output_type": "stream",
     "text": [
      "/home/bishwayansaha99/langchain/venv/lib/python3.12/site-packages/langchain_community/utilities/duckduckgo_search.py:64: UserWarning: backend='api' is deprecated, using backend='auto'\n",
      "  ddgs_gen = ddgs.text(\n"
     ]
    },
    {
     "name": "stdout",
     "output_type": "stream",
     "text": [
      "\n",
      "From Route content='' additional_kwargs={'tool_calls': [{'id': 'call_dq9k', 'function': {'arguments': '{\"query\":\"specifications of the MacBook Air model A2337\"}', 'name': 'crawl_web'}, 'type': 'function'}]} response_metadata={'token_usage': {'completion_tokens': 56, 'prompt_tokens': 1420, 'total_tokens': 1476, 'completion_time': 0.101818182, 'prompt_time': 0.045789419, 'queue_time': 0.023055400000000004, 'total_time': 0.147607601}, 'model_name': 'gemma2-9b-it', 'system_fingerprint': 'fp_10c08bf97d', 'finish_reason': 'tool_calls', 'logprobs': None} id='run-6ae24629-57f8-4955-93df-cd1f1579b728-0' tool_calls=[{'name': 'crawl_web', 'args': {'query': 'specifications of the MacBook Air model A2337'}, 'id': 'call_dq9k', 'type': 'tool_call'}] usage_metadata={'input_tokens': 1420, 'output_tokens': 56, 'total_tokens': 1476}\n",
      "\n",
      "\n",
      "===== Executing Tool =====\n",
      "\n"
     ]
    },
    {
     "name": "stderr",
     "output_type": "stream",
     "text": [
      "/home/bishwayansaha99/langchain/venv/lib/python3.12/site-packages/langchain_community/utilities/duckduckgo_search.py:64: UserWarning: backend='api' is deprecated, using backend='auto'\n",
      "  ddgs_gen = ddgs.text(\n"
     ]
    },
    {
     "name": "stdout",
     "output_type": "stream",
     "text": [
      "\n",
      "From Route content='The MacBook Air A2337 comes with the Apple M1 chip. It has 8 CPU cores and 7 or 8 GPU cores.  It comes with 8GB or 16GB of unified memory.  The storage is a 256GB, 512GB, 1TB, or 2TB SSD.  The display is a 13.3-inch Retina display with a resolution of 2560 x 1600 pixels. \\n\\n\\n\\n' additional_kwargs={} response_metadata={'token_usage': {'completion_tokens': 109, 'prompt_tokens': 1925, 'total_tokens': 2034, 'completion_time': 0.198181818, 'prompt_time': 0.061425313, 'queue_time': 0.023415674000000004, 'total_time': 0.259607131}, 'model_name': 'gemma2-9b-it', 'system_fingerprint': 'fp_10c08bf97d', 'finish_reason': 'stop', 'logprobs': None} id='run-6a6d2359-0f33-40ab-9290-318f20d226c2-0' usage_metadata={'input_tokens': 1925, 'output_tokens': 109, 'total_tokens': 2034}\n",
      "\n",
      "\n",
      "===== Executing Response =====\n",
      "\n",
      "name='MacBook Air A2337' processor='Apple M1' price=0\n"
     ]
    },
    {
     "data": {
      "text/plain": [
       "{'messages': [HumanMessage(content='Details of Macbook Air M1', additional_kwargs={}, response_metadata={}, id='a640e1da-9779-47d0-b000-58bd3ae278c5'),\n",
       "  AIMessage(content='', additional_kwargs={'tool_calls': [{'id': 'call_sf5k', 'function': {'arguments': '{\"query\":\"details of Macbook Air M1\"}', 'name': 'crawl_web'}, 'type': 'function'}]}, response_metadata={'token_usage': {'completion_tokens': 87, 'prompt_tokens': 956, 'total_tokens': 1043, 'completion_time': 0.158181818, 'prompt_time': 0.038909583, 'queue_time': 0.020387958000000005, 'total_time': 0.197091401}, 'model_name': 'gemma2-9b-it', 'system_fingerprint': 'fp_10c08bf97d', 'finish_reason': 'tool_calls', 'logprobs': None}, id='run-5c709125-876c-453c-bb30-efaf1543b711-0', tool_calls=[{'name': 'crawl_web', 'args': {'query': 'details of Macbook Air M1'}, 'id': 'call_sf5k', 'type': 'tool_call'}], usage_metadata={'input_tokens': 956, 'output_tokens': 87, 'total_tokens': 1043}),\n",
       "  ToolMessage(content=\"The MacBook Air model A2337 features Apple's M1 chip and was released in 2020. It offers impressive performance and battery life in a sleek design. Let's explore some key details about this laptop. What are the specifications of the MacBook Air model A2337? The MacBook Air A2337 comes with the Apple M1 chip. It has 8 CPU cores and 7 or 8 ... Thankfully, the M1 MacBook Air put those concerns to rest, with many older apps running almost as well as native apps. (Editors note: while the MacBook Air M2 and MacBook Pro M3 have since been released, we still recommend the MacBook Air M1 as one of the best laptops under $1,000 and the best MacBook for students.) About the Apple MacBook Air M1 The MacBook Air's new M1 chip gives the laptop MacBook Pro-like power along with amazing battery life. ... the MacBook Air's 2,560 x 1600-pixel Retina display provided fine details, with the ... The newer MacBook Air laptops are even thinner and lighter at 11.97 x 8.46 x 0.44 inches and 2.7 pounds, but the older M1 Air won't break your spine if you're carrying it in your backpack. The new M1 MacBook Air and M1 MacBook Pro have both been highly praised for their performance, efficiency, and battery life. ... Let's start by looking at the key specifications of the M1 MacBook Air and M1 MacBook Pro: M1 MacBook Air: Apple M1 chip with 8-core CPU and 7-core GPU; 8GB or 16GB of unified memory; 256GB, 512GB, 1TB, or 2TB SSD ...\", name='crawl_web', id='a6481480-d442-4337-b183-4dc72c601bc9', tool_call_id='call_sf5k'),\n",
       "  AIMessage(content='', additional_kwargs={'tool_calls': [{'id': 'call_dq9k', 'function': {'arguments': '{\"query\":\"specifications of the MacBook Air model A2337\"}', 'name': 'crawl_web'}, 'type': 'function'}]}, response_metadata={'token_usage': {'completion_tokens': 56, 'prompt_tokens': 1420, 'total_tokens': 1476, 'completion_time': 0.101818182, 'prompt_time': 0.045789419, 'queue_time': 0.023055400000000004, 'total_time': 0.147607601}, 'model_name': 'gemma2-9b-it', 'system_fingerprint': 'fp_10c08bf97d', 'finish_reason': 'tool_calls', 'logprobs': None}, id='run-6ae24629-57f8-4955-93df-cd1f1579b728-0', tool_calls=[{'name': 'crawl_web', 'args': {'query': 'specifications of the MacBook Air model A2337'}, 'id': 'call_dq9k', 'type': 'tool_call'}], usage_metadata={'input_tokens': 1420, 'output_tokens': 56, 'total_tokens': 1476}),\n",
       "  ToolMessage(content='The MacBook Air A2337 model showcases Apple\\'s commitment to sleek aesthetics and premium construction. Its design blends form and function with cutting-edge features that enhance user experience. Materials and Color Options. The A2337 MacBook Air features a 100% recycled aluminum enclosure. This eco-friendly approach doesn\\'t compromise on durability or style. Apple sold MacBook Air models with Intel processors from 2008 until 2020; newer, and current, MacBook Air models all use Apple Silicon processors. Click on a specific model for its complete technical specs, configuration options, identification details, performance benchmarks, original price in dozens of countries, and more. Tech specs for all Apple Mac models released in 2020. Dates sold, processor type, memory info, storage details, configuration options, model numbers, and more. ... Model: A2337 (EMC 3598) Family: M1, 2020: ID: MacBookAir10,1: RAM: 8 GB* VRAM: Integrated: Storage: 128, 256 GB SSD* Optical: ... Complete MacBook Air \"M1\" 8 CPU/8 GPU 13\" Specs ... Apple sold 13-Inch MacBook Air models with Intel processors from 2008 until 2020. Newer, and current, 13-Inch MacBook Air models all use Apple Silicon processors. Click on a specific model for its complete technical specs, configuration options, identification details, performance benchmarks, original price in dozens of countries, and more. Hi there! I just got my first macbook. I\\'m very happy with it, and I\\'m looking to buy a case for it. The label on the bottom says the model is the A3113, but none of the cases I can find online advertise for that (maybe because it\\'s a new model?) Is the size of my model the same as the A2337, or another popular model? Thanks!', name='crawl_web', id='abc6a001-ee6f-4146-b6a5-2229d7b4cbf1', tool_call_id='call_dq9k'),\n",
       "  AIMessage(content='The MacBook Air A2337 comes with the Apple M1 chip. It has 8 CPU cores and 7 or 8 GPU cores.  It comes with 8GB or 16GB of unified memory.  The storage is a 256GB, 512GB, 1TB, or 2TB SSD.  The display is a 13.3-inch Retina display with a resolution of 2560 x 1600 pixels. \\n\\n\\n\\n', additional_kwargs={}, response_metadata={'token_usage': {'completion_tokens': 109, 'prompt_tokens': 1925, 'total_tokens': 2034, 'completion_time': 0.198181818, 'prompt_time': 0.061425313, 'queue_time': 0.023415674000000004, 'total_time': 0.259607131}, 'model_name': 'gemma2-9b-it', 'system_fingerprint': 'fp_10c08bf97d', 'finish_reason': 'stop', 'logprobs': None}, id='run-6a6d2359-0f33-40ab-9290-318f20d226c2-0', usage_metadata={'input_tokens': 1925, 'output_tokens': 109, 'total_tokens': 2034})]}"
      ]
     },
     "execution_count": 51,
     "metadata": {},
     "output_type": "execute_result"
    }
   ],
   "source": [
    "app1.invoke({\"messages\": [(\"human\",  \"Details of Macbook Air M1\")]})"
   ]
  },
  {
   "cell_type": "code",
   "execution_count": null,
   "metadata": {},
   "outputs": [],
   "source": [
    "additional_kwargs = {\n",
    "    \"tool_calls\": [\n",
    "        {\n",
    "            \"id\": \"call_sf5k\",\n",
    "            \"function\": {\n",
    "                \"arguments\": '{\"query\":\"details of Macbook Air M1\"}',\n",
    "                \"name\": \"crawl_web\",\n",
    "            },\n",
    "            \"type\": \"function\",\n",
    "        }\n",
    "    ]\n",
    "}\n",
    "response_metadata = {\n",
    "    \"token_usage\": {\n",
    "        \"completion_tokens\": 87,\n",
    "        \"prompt_tokens\": 956,\n",
    "        \"total_tokens\": 1043,\n",
    "        \"completion_time\": 0.158181818,\n",
    "        \"prompt_time\": 0.038909583,\n",
    "        \"queue_time\": 0.020387958000000005,\n",
    "        \"total_time\": 0.197091401,\n",
    "    },\n",
    "    \"model_name\": \"gemma2-9b-it\",\n",
    "    \"system_fingerprint\": \"fp_10c08bf97d\",\n",
    "    \"finish_reason\": \"tool_calls\",\n",
    "    \"logprobs\": None,\n",
    "}\n",
    "id = \"run-5c709125-876c-453c-bb30-efaf1543b711-0\"\n",
    "tool_calls = [\n",
    "    {\n",
    "        \"name\": \"crawl_web\",\n",
    "        \"args\": {\"query\": \"details of Macbook Air M1\"},\n",
    "        \"id\": \"call_sf5k\",\n",
    "        \"type\": \"tool_call\",\n",
    "    }\n",
    "]\n",
    "usage_metadata = {\"input_tokens\": 956, \"output_tokens\": 87, \"total_tokens\": 1043}"
   ]
  },
  {
   "cell_type": "markdown",
   "metadata": {},
   "source": [
    "### 2. Langgraph with ReAct agent"
   ]
  },
  {
   "cell_type": "code",
   "execution_count": 56,
   "metadata": {},
   "outputs": [],
   "source": [
    "search = DuckDuckGoSearchRun()\n",
    "\n",
    "@tool\n",
    "def multiply(a:int, b:int):\n",
    "    \"\"\"\n",
    "    Multiply two numbers a and b\n",
    "    Args:\n",
    "        a: first int\n",
    "        b: second int\n",
    "    \"\"\"\n",
    "    return a * b\n",
    "\n",
    "@tool\n",
    "def add(a:int, b:int):\n",
    "    \"\"\"\n",
    "    Adding two numbers a and b\n",
    "    Args:\n",
    "        a: first int\n",
    "        b: second int\n",
    "    \"\"\"\n",
    "    return a + b\n",
    "\n",
    "@tool\n",
    "def subtract(a:int, b:int):\n",
    "    \"\"\"\n",
    "    Subtracting two numbers a and b\n",
    "    Args:\n",
    "        a: first int\n",
    "        b: second int\n",
    "    \"\"\"\n",
    "    return a - b\n",
    "\n",
    "@tool\n",
    "def divide(a:int, b:int):\n",
    "    \"\"\"\n",
    "    Dividing two numbers a and b\n",
    "    Args:\n",
    "        a: first int\n",
    "        b: second int\n",
    "    \"\"\"\n",
    "    return a // b\n",
    "\n",
    "tools = [add, subtract, multiply, divide, search]"
   ]
  },
  {
   "cell_type": "code",
   "execution_count": 57,
   "metadata": {},
   "outputs": [],
   "source": [
    "groq_with_tools = groq_model.bind_tools(tools=tools)\n",
    "\n",
    "def call_model(state: MessagesState):\n",
    "    message = state['messages']\n",
    "    prompt_template = ChatPromptTemplate.from_messages(\n",
    "        [\n",
    "            SystemMessage(\"\"\"You are an intelligent AI assistant who can perform arithmatic operations.\n",
    "                          Along with that you can search through the web to find required content.\n",
    "                          You perofrm this tasks using available tools\n",
    "                          \n",
    "                          Here is the chat history for reference\\n\n",
    "                          \"\"\"),\n",
    "            MessagesPlaceholder(\"chat_history\")\n",
    "        ]\n",
    "    )\n",
    "    chain = prompt_template | groq_with_tools\n",
    "    response = chain.invoke({\"chat_history\": message})\n",
    "    return {\"messages\": [response]}"
   ]
  },
  {
   "cell_type": "code",
   "execution_count": 58,
   "metadata": {},
   "outputs": [
    {
     "data": {
      "image/png": "[encoded data removed]",
      "text/plain": [
       "<IPython.core.display.Image object>"
      ]
     },
     "metadata": {},
     "output_type": "display_data"
    }
   ],
   "source": [
    "wf2 = StateGraph(MessagesState)\n",
    "\n",
    "wf2.add_node(\"model\", call_model)\n",
    "wf2.add_node(\"tools\", ToolNode(tools))\n",
    "\n",
    "wf2.add_conditional_edges(\"model\", tools_condition)\n",
    "wf2.add_edge(\"tools\", \"model\")\n",
    "\n",
    "wf2.set_entry_point(\"model\")\n",
    "\n",
    "app2 = wf2.compile()\n",
    "display(Image(app2.get_graph().draw_mermaid_png()))"
   ]
  },
  {
   "cell_type": "code",
   "execution_count": 59,
   "metadata": {},
   "outputs": [
    {
     "name": "stderr",
     "output_type": "stream",
     "text": [
      "/home/bishwayansaha99/langchain/venv/lib/python3.12/site-packages/langchain_community/utilities/duckduckgo_search.py:64: UserWarning: backend='api' is deprecated, using backend='auto'\n",
      "  ddgs_gen = ddgs.text(\n",
      "/home/bishwayansaha99/langchain/venv/lib/python3.12/site-packages/langchain_community/utilities/duckduckgo_search.py:64: UserWarning: backend='api' is deprecated, using backend='auto'\n",
      "  ddgs_gen = ddgs.text(\n"
     ]
    },
    {
     "data": {
      "text/plain": [
       "{'messages': [HumanMessage(content=\"What will be addition of Elon Mask's age and Virat Kohli's age?\", additional_kwargs={}, response_metadata={}, id='ba649893-753e-4f44-babe-91cccc45d65d'),\n",
       "  AIMessage(content='', additional_kwargs={'tool_calls': [{'id': 'call_bmvv', 'function': {'arguments': '{\"query\":\"Elon Musk age\"}', 'name': 'duckduckgo_search'}, 'type': 'function'}]}, response_metadata={'token_usage': {'completion_tokens': 86, 'prompt_tokens': 1610, 'total_tokens': 1696, 'completion_time': 0.156363636, 'prompt_time': 0.054881482, 'queue_time': 0.02227139699999999, 'total_time': 0.211245118}, 'model_name': 'gemma2-9b-it', 'system_fingerprint': 'fp_10c08bf97d', 'finish_reason': 'tool_calls', 'logprobs': None}, id='run-eb579e56-de00-47ce-b9cd-7e30e2e334f3-0', tool_calls=[{'name': 'duckduckgo_search', 'args': {'query': 'Elon Musk age'}, 'id': 'call_bmvv', 'type': 'tool_call'}], usage_metadata={'input_tokens': 1610, 'output_tokens': 86, 'total_tokens': 1696}),\n",
       "  ToolMessage(content=\"Elon Musk is a South African-born American entrepreneur and inventor, born on June 28, 1971. He is the richest man in the world, with a net worth of $198 billion, and the founder of Tesla, SpaceX, and other innovative ventures. Elon Musk Biography. Elon Musk was born on June 28, 1971, in Pretoria, South Africa. From a young age, he showed signs of brilliance, particularly in technology and entrepreneurship. As a child, he taught himself computer programming and sold his first software—a game called *Blastar*—for about $500 at the age of 12. Elon Musk (born June 28, 1971, Pretoria, South Africa) is a South African-born American entrepreneur who cofounded the electronic-payment firm PayPal and formed SpaceX, maker of launch vehicles and spacecraft.He was also one of the first significant investors in, as well as chief executive officer of, the electric car manufacturer Tesla. In addition, Musk acquired Twitter (later X) in 2022. Elon Musk is one of the most famous entrepreneurs and business leaders of the 21st century. As the co-founder of PayPal, CEO of Tesla Motors and SpaceX, and driving force behind many other companies, Musk has had an outsized influence on technology, space exploration, and solving some of humanity's biggest challenges. Elon Musk was born on June 28, 1971, in Pretoria, South Africa. Learn more about his life, career, and achievements in this comprehensive biography and facts article.\", name='duckduckgo_search', id='cc1a0291-2d54-4137-96bd-d43704e97d05', tool_call_id='call_bmvv'),\n",
       "  AIMessage(content='', additional_kwargs={'tool_calls': [{'id': 'call_ayzq', 'function': {'arguments': '{\"query\":\"Virat Kohli age\"}', 'name': 'duckduckgo_search'}, 'type': 'function'}]}, response_metadata={'token_usage': {'completion_tokens': 50, 'prompt_tokens': 2020, 'total_tokens': 2070, 'completion_time': 0.090909091, 'prompt_time': 0.064615563, 'queue_time': 0.025039287999999993, 'total_time': 0.155524654}, 'model_name': 'gemma2-9b-it', 'system_fingerprint': 'fp_10c08bf97d', 'finish_reason': 'tool_calls', 'logprobs': None}, id='run-258e1f03-9e20-4f08-820c-cec50b705677-0', tool_calls=[{'name': 'duckduckgo_search', 'args': {'query': 'Virat Kohli age'}, 'id': 'call_ayzq', 'type': 'tool_call'}], usage_metadata={'input_tokens': 2020, 'output_tokens': 50, 'total_tokens': 2070}),\n",
       "  ToolMessage(content=\"Virat Kohli (born November 5, 1988, Delhi, India) is an Indian international cricketer considered by many as one of the greatest batsmen in the history of the game.Kohli plays for (and previously captained) the Royal Challengers Bangalore (RCB) in the Indian Premier League (IPL). He is also a former captain of the Indian cricket team in all three international formats—Test cricket, one-day ... Discover Virat Kohli's biography, net worth, career highlights, family details, and more in this comprehensive profile. Get all the latest updates and news. Virat Kohli is a name synonymous with cricket excellence. Widely regarded as one of the best batsmen in the history of the sport, Kohli's journey from a young prodigy to a global cricketing ... Virat Kohli, the renowned Indian cricketer, has amassed an impressive net worth of approximately ₹1,090 crores (around $130 million) as of June 2024. This substantial wealth primarily stems from his lucrative contracts with the Board of Control for Cricket in India (BCCI) and the Indian Premier League (IPL), as well as his numerous brand ... A brief life story and biography of Virat Kohli. Virat Kohli, a young and gifted right-handed batsman, was born in Delhi on November 5, 1988. Virat Kohli age. Virat Kohli was born on November 5, 1988, in Dehli, India. Virat Kohli height. Kohli is five foot seven and a half (175cm) tall. This is a similar height to Rohit Sharma (174cm) and ten centimetres taller than Sachin Tendulkar.\", name='duckduckgo_search', id='fc033316-4f18-419c-993b-28f29a3cc675', tool_call_id='call_ayzq'),\n",
       "  AIMessage(content='', additional_kwargs={'tool_calls': [{'id': 'call_2b9t', 'function': {'arguments': '{\"a\":1981,\"b\":1988}', 'name': 'add'}, 'type': 'function'}]}, response_metadata={'token_usage': {'completion_tokens': 54, 'prompt_tokens': 2438, 'total_tokens': 2492, 'completion_time': 0.098181818, 'prompt_time': 0.092931122, 'queue_time': 0.023512436999999997, 'total_time': 0.19111294}, 'model_name': 'gemma2-9b-it', 'system_fingerprint': 'fp_10c08bf97d', 'finish_reason': 'tool_calls', 'logprobs': None}, id='run-097933c6-92a3-497f-a1e0-c71c69a94991-0', tool_calls=[{'name': 'add', 'args': {'a': 1981, 'b': 1988}, 'id': 'call_2b9t', 'type': 'tool_call'}], usage_metadata={'input_tokens': 2438, 'output_tokens': 54, 'total_tokens': 2492}),\n",
       "  ToolMessage(content='3969', name='add', id='d5f14066-cd34-4d7c-a990-753263533d20', tool_call_id='call_2b9t'),\n",
       "  AIMessage(content=\"Elon Musk's age plus Virat Kohli's age is 3969. \\n\", additional_kwargs={}, response_metadata={'token_usage': {'completion_tokens': 22, 'prompt_tokens': 2523, 'total_tokens': 2545, 'completion_time': 0.04, 'prompt_time': 0.080995915, 'queue_time': 0.024071443999999997, 'total_time': 0.120995915}, 'model_name': 'gemma2-9b-it', 'system_fingerprint': 'fp_10c08bf97d', 'finish_reason': 'stop', 'logprobs': None}, id='run-00e6c390-171d-4c82-95ea-f77acafddcb8-0', usage_metadata={'input_tokens': 2523, 'output_tokens': 22, 'total_tokens': 2545})]}"
      ]
     },
     "execution_count": 59,
     "metadata": {},
     "output_type": "execute_result"
    }
   ],
   "source": [
    "app2.invoke({\"messages\": [(\"What will be addition of Elon Mask's age and Virat Kohli's age?\")]})"
   ]
  },
  {
   "cell_type": "markdown",
   "metadata": {},
   "source": [
    "### 3. Langgraph with Human in Loop"
   ]
  },
  {
   "cell_type": "code",
   "execution_count": 64,
   "metadata": {},
   "outputs": [],
   "source": [
    "def route_call1(state: MessagesState):\n",
    "    message = state[\"messages\"][-1]\n",
    "    print(f\"\\nfrom route {message}\\n\")\n",
    "    if message.tool_calls:\n",
    "        if message.additional_kwargs[\"tool_calls\"][0][\"function\"][\"name\"] == 'duckduckgo_search':\n",
    "            user_permission = input(\"Do you want to proceed? \")\n",
    "            if user_permission.lower() == 'y' or user_permission.lower() == 'yes':\n",
    "                return \"tools\"\n",
    "            else:\n",
    "                raise Exception(\"Not want to continue\")\n",
    "        return \"tools\"\n",
    "    return END\n",
    "\n"
   ]
  },
  {
   "cell_type": "code",
   "execution_count": 65,
   "metadata": {},
   "outputs": [
    {
     "data": {
      "image/png": "[encoded data removed]",
      "text/plain": [
       "<IPython.core.display.Image object>"
      ]
     },
     "metadata": {},
     "output_type": "display_data"
    }
   ],
   "source": [
    "wf3 = StateGraph(MessagesState)\n",
    "\n",
    "wf3.add_node(\"model\", call_model)\n",
    "wf3.add_node(\"tools\", ToolNode(tools))\n",
    "\n",
    "wf3.add_conditional_edges(\"model\", route_call1, {\"tools\": \"tools\", END: END})\n",
    "wf3.add_edge(\"tools\", \"model\")\n",
    "\n",
    "wf3.set_entry_point(\"model\")\n",
    "\n",
    "app3 = wf3.compile()\n",
    "display(Image(app3.get_graph().draw_mermaid_png()))"
   ]
  },
  {
   "cell_type": "code",
   "execution_count": 75,
   "metadata": {},
   "outputs": [
    {
     "name": "stdout",
     "output_type": "stream",
     "text": [
      "\n",
      "from route content='' additional_kwargs={'tool_calls': [{'id': 'call_v8zn', 'function': {'arguments': '{\"query\":\"Elon Musk age\"}', 'name': 'duckduckgo_search'}, 'type': 'function'}]} response_metadata={'token_usage': {'completion_tokens': 86, 'prompt_tokens': 1610, 'total_tokens': 1696, 'completion_time': 0.156363636, 'prompt_time': 0.077685861, 'queue_time': 0.02252074400000001, 'total_time': 0.234049497}, 'model_name': 'gemma2-9b-it', 'system_fingerprint': 'fp_10c08bf97d', 'finish_reason': 'tool_calls', 'logprobs': None} id='run-bb221351-5ce1-4406-9d59-09300df735f6-0' tool_calls=[{'name': 'duckduckgo_search', 'args': {'query': 'Elon Musk age'}, 'id': 'call_v8zn', 'type': 'tool_call'}] usage_metadata={'input_tokens': 1610, 'output_tokens': 86, 'total_tokens': 1696}\n",
      "\n"
     ]
    },
    {
     "name": "stderr",
     "output_type": "stream",
     "text": [
      "/home/bishwayansaha99/langchain/venv/lib/python3.12/site-packages/langchain_community/utilities/duckduckgo_search.py:64: UserWarning: backend='api' is deprecated, using backend='auto'\n",
      "  ddgs_gen = ddgs.text(\n"
     ]
    },
    {
     "name": "stdout",
     "output_type": "stream",
     "text": [
      "\n",
      "from route content='' additional_kwargs={'tool_calls': [{'id': 'call_yjd5', 'function': {'arguments': '{\"query\":\"Virat Kohli age\"}', 'name': 'duckduckgo_search'}, 'type': 'function'}]} response_metadata={'token_usage': {'completion_tokens': 52, 'prompt_tokens': 2035, 'total_tokens': 2087, 'completion_time': 0.094545455, 'prompt_time': 0.082985806, 'queue_time': 0.023681168000000002, 'total_time': 0.177531261}, 'model_name': 'gemma2-9b-it', 'system_fingerprint': 'fp_10c08bf97d', 'finish_reason': 'tool_calls', 'logprobs': None} id='run-cdd55eb0-1f57-4f73-b552-14a3e642930f-0' tool_calls=[{'name': 'duckduckgo_search', 'args': {'query': 'Virat Kohli age'}, 'id': 'call_yjd5', 'type': 'tool_call'}] usage_metadata={'input_tokens': 2035, 'output_tokens': 52, 'total_tokens': 2087}\n",
      "\n"
     ]
    },
    {
     "name": "stderr",
     "output_type": "stream",
     "text": [
      "/home/bishwayansaha99/langchain/venv/lib/python3.12/site-packages/langchain_community/utilities/duckduckgo_search.py:64: UserWarning: backend='api' is deprecated, using backend='auto'\n",
      "  ddgs_gen = ddgs.text(\n"
     ]
    },
    {
     "name": "stdout",
     "output_type": "stream",
     "text": [
      "\n",
      "from route content='' additional_kwargs={'tool_calls': [{'id': 'call_7yn6', 'function': {'arguments': '{\"a\":35,\"b\":36}', 'name': 'add'}, 'type': 'function'}]} response_metadata={'token_usage': {'completion_tokens': 50, 'prompt_tokens': 2519, 'total_tokens': 2569, 'completion_time': 0.090909091, 'prompt_time': 0.138066805, 'queue_time': 0.022773104000000016, 'total_time': 0.228975896}, 'model_name': 'gemma2-9b-it', 'system_fingerprint': 'fp_10c08bf97d', 'finish_reason': 'tool_calls', 'logprobs': None} id='run-d975a9c2-25bf-4483-be9f-9ca03f7af404-0' tool_calls=[{'name': 'add', 'args': {'a': 35, 'b': 36}, 'id': 'call_7yn6', 'type': 'tool_call'}] usage_metadata={'input_tokens': 2519, 'output_tokens': 50, 'total_tokens': 2569}\n",
      "\n",
      "\n",
      "from route content=\"The sum of Elon Musk's age and Virat Kohli's age is 71.\" additional_kwargs={} response_metadata={'token_usage': {'completion_tokens': 21, 'prompt_tokens': 2596, 'total_tokens': 2617, 'completion_time': 0.038181818, 'prompt_time': 0.145794412, 'queue_time': 0.022445255999999997, 'total_time': 0.18397623}, 'model_name': 'gemma2-9b-it', 'system_fingerprint': 'fp_10c08bf97d', 'finish_reason': 'stop', 'logprobs': None} id='run-7c0a0187-4848-4528-91fb-531ad9315f6f-0' usage_metadata={'input_tokens': 2596, 'output_tokens': 21, 'total_tokens': 2617}\n",
      "\n"
     ]
    },
    {
     "data": {
      "text/plain": [
       "{'messages': [HumanMessage(content=\"What will be addition of Elon Mask's age and Virat Kohli's age?\", additional_kwargs={}, response_metadata={}, id='5ba73062-39c4-49fd-be89-99111b22c8a6'),\n",
       "  AIMessage(content='', additional_kwargs={'tool_calls': [{'id': 'call_v8zn', 'function': {'arguments': '{\"query\":\"Elon Musk age\"}', 'name': 'duckduckgo_search'}, 'type': 'function'}]}, response_metadata={'token_usage': {'completion_tokens': 86, 'prompt_tokens': 1610, 'total_tokens': 1696, 'completion_time': 0.156363636, 'prompt_time': 0.077685861, 'queue_time': 0.02252074400000001, 'total_time': 0.234049497}, 'model_name': 'gemma2-9b-it', 'system_fingerprint': 'fp_10c08bf97d', 'finish_reason': 'tool_calls', 'logprobs': None}, id='run-bb221351-5ce1-4406-9d59-09300df735f6-0', tool_calls=[{'name': 'duckduckgo_search', 'args': {'query': 'Elon Musk age'}, 'id': 'call_v8zn', 'type': 'tool_call'}], usage_metadata={'input_tokens': 1610, 'output_tokens': 86, 'total_tokens': 1696}),\n",
       "  ToolMessage(content='Elon Musk (born June 28, 1971, Pretoria, South Africa) is a South African-born American entrepreneur who cofounded the electronic-payment firm PayPal and formed SpaceX, maker of launch vehicles and spacecraft.He was also one of the first significant investors in, as well as chief executive officer of, the electric car manufacturer Tesla. In addition, Musk acquired Twitter (later X) in 2022. Elon Musk Biography. Elon Musk was born on June 28, 1971, in Pretoria, South Africa. From a young age, he showed signs of brilliance, particularly in technology and entrepreneurship. As a child, he taught himself computer programming and sold his first software—a game called *Blastar*—for about $500 at the age of 12. Elon Musk is a South African-born American entrepreneur and inventor, born on June 28, 1971. He is the richest man in the world, with a net worth of $198 billion, and the founder of Tesla, SpaceX, and other innovative ventures. Elon Musk is the CEO of Tesla, SpaceX and cofounder of other major companies. ... In 2022, at the age of 74, she appeared on the cover of Sport Illustrated\\'s swimsuit edition. Maye and Musk\\'s ... For more information, read Elon Musk\\'s Biography. Elon Musk. Net Worth: $447 Billion. Date of Birth: June 28, 1971. Age: 53 Yrs. Height: 1.80 M (5\\' 11\") Nationality: American, Canadian and ...', name='duckduckgo_search', id='c76bcf72-12bf-4f1d-81a7-bb2949ca9cec', tool_call_id='call_v8zn'),\n",
       "  AIMessage(content='', additional_kwargs={'tool_calls': [{'id': 'call_yjd5', 'function': {'arguments': '{\"query\":\"Virat Kohli age\"}', 'name': 'duckduckgo_search'}, 'type': 'function'}]}, response_metadata={'token_usage': {'completion_tokens': 52, 'prompt_tokens': 2035, 'total_tokens': 2087, 'completion_time': 0.094545455, 'prompt_time': 0.082985806, 'queue_time': 0.023681168000000002, 'total_time': 0.177531261}, 'model_name': 'gemma2-9b-it', 'system_fingerprint': 'fp_10c08bf97d', 'finish_reason': 'tool_calls', 'logprobs': None}, id='run-cdd55eb0-1f57-4f73-b552-14a3e642930f-0', tool_calls=[{'name': 'duckduckgo_search', 'args': {'query': 'Virat Kohli age'}, 'id': 'call_yjd5', 'type': 'tool_call'}], usage_metadata={'input_tokens': 2035, 'output_tokens': 52, 'total_tokens': 2087}),\n",
       "  ToolMessage(content=\"Virat Kohli (born November 5, 1988, Delhi, India) is an Indian international cricketer considered by many as one of the greatest batsmen in the history of the game.Kohli plays for (and previously captained) the Royal Challengers Bangalore (RCB) in the Indian Premier League (IPL). He is also a former captain of the Indian cricket team in all three international formats—Test cricket, one-day ... Let us explore the biography of Virat Kohli, including his age, records, centuries, IPL performances, and details about his wife and children. Kohli was an integral part of the Indian teams that secured victory in the 2011 ODI World Cup, the 2013 ICC Champions Trophy, and the 2024 T20 World Cup. About Virat Kohli . Virat Kohli Biography & Virat Kohli Career . Early life and career. In Delhi, India, on November 5, 1988, Virat Kohli was born. In 1998, Kohli commenced his cricket career at the West Delhi Cricket Academy. His cricket career began with the Delhi Under-15 squad in 2002; after that, he was selected for the Delhi U-17 team and went on to score ... Virat Kohli age. Virat Kohli was born on November 5, 1988, in Dehli, India. Virat Kohli height. Kohli is five foot seven and a half (175cm) tall. This is a similar height to Rohit Sharma (174cm) and ten centimetres taller than Sachin Tendulkar. Virat Kohli Biography: Virat's cricketing journey began in the summer of 1998. Virat and his brother Vikas were ferried by their father Prem Kohli to a cricket camp in west Delhi. It was a typical hot summer day and little did Rajkumar Sharma, coach of the West Delhi Cricket Academy, know that over 250 kids would brave this extreme weather.\", name='duckduckgo_search', id='f0673be2-894f-4001-b6b3-f0d4860db792', tool_call_id='call_yjd5'),\n",
       "  AIMessage(content='', additional_kwargs={'tool_calls': [{'id': 'call_7yn6', 'function': {'arguments': '{\"a\":35,\"b\":36}', 'name': 'add'}, 'type': 'function'}]}, response_metadata={'token_usage': {'completion_tokens': 50, 'prompt_tokens': 2519, 'total_tokens': 2569, 'completion_time': 0.090909091, 'prompt_time': 0.138066805, 'queue_time': 0.022773104000000016, 'total_time': 0.228975896}, 'model_name': 'gemma2-9b-it', 'system_fingerprint': 'fp_10c08bf97d', 'finish_reason': 'tool_calls', 'logprobs': None}, id='run-d975a9c2-25bf-4483-be9f-9ca03f7af404-0', tool_calls=[{'name': 'add', 'args': {'a': 35, 'b': 36}, 'id': 'call_7yn6', 'type': 'tool_call'}], usage_metadata={'input_tokens': 2519, 'output_tokens': 50, 'total_tokens': 2569}),\n",
       "  ToolMessage(content='71', name='add', id='bbb0a6bb-c76e-4393-aad3-d0d9037bde53', tool_call_id='call_7yn6'),\n",
       "  AIMessage(content=\"The sum of Elon Musk's age and Virat Kohli's age is 71.\", additional_kwargs={}, response_metadata={'token_usage': {'completion_tokens': 21, 'prompt_tokens': 2596, 'total_tokens': 2617, 'completion_time': 0.038181818, 'prompt_time': 0.145794412, 'queue_time': 0.022445255999999997, 'total_time': 0.18397623}, 'model_name': 'gemma2-9b-it', 'system_fingerprint': 'fp_10c08bf97d', 'finish_reason': 'stop', 'logprobs': None}, id='run-7c0a0187-4848-4528-91fb-531ad9315f6f-0', usage_metadata={'input_tokens': 2596, 'output_tokens': 21, 'total_tokens': 2617})]}"
      ]
     },
     "execution_count": 75,
     "metadata": {},
     "output_type": "execute_result"
    }
   ],
   "source": [
    "app3.invoke({\"messages\": [(\"What will be addition of Elon Mask's age and Virat Kohli's age?\")]})"
   ]
  },
  {
   "cell_type": "code",
   "execution_count": 99,
   "metadata": {},
   "outputs": [
    {
     "data": {
      "image/png": "[encoded data removed]",
      "text/plain": [
       "<IPython.core.display.Image object>"
      ]
     },
     "metadata": {},
     "output_type": "display_data"
    }
   ],
   "source": [
    "wf4 = StateGraph(MessagesState)\n",
    "\n",
    "wf4.add_node(\"model\", call_model)\n",
    "wf4.add_node(\"tools\", ToolNode(tools))\n",
    "\n",
    "wf4.add_conditional_edges(\"model\", tools_condition)\n",
    "wf4.add_edge(\"tools\", \"model\")\n",
    "\n",
    "wf4.set_entry_point(\"model\")\n",
    "\n",
    "app4 = wf4.compile(\n",
    "    interrupt_before=[\"tools\"],\n",
    "    checkpointer=MemorySaver()\n",
    ")\n",
    "config = {\"configurable\": {\"thread_id\": \"1\"}}\n",
    "display(Image(app4.get_graph().draw_mermaid_png()))\n",
    "\n"
   ]
  },
  {
   "cell_type": "code",
   "execution_count": 100,
   "metadata": {},
   "outputs": [
    {
     "data": {
      "text/plain": [
       "{'messages': [HumanMessage(content=\"What will be addition of Elon Mask's age and Virat Kohli's age?\", additional_kwargs={}, response_metadata={}, id='0edecbe7-1853-434e-bf20-1a7266c83611'),\n",
       "  AIMessage(content='', additional_kwargs={'tool_calls': [{'id': 'call_vw0f', 'function': {'arguments': '{\"query\":\"Elon Musk\\'s age\"}', 'name': 'duckduckgo_search'}, 'type': 'function'}]}, response_metadata={'token_usage': {'completion_tokens': 88, 'prompt_tokens': 1610, 'total_tokens': 1698, 'completion_time': 0.16, 'prompt_time': 0.072403784, 'queue_time': 0.021526045000000008, 'total_time': 0.232403784}, 'model_name': 'gemma2-9b-it', 'system_fingerprint': 'fp_10c08bf97d', 'finish_reason': 'tool_calls', 'logprobs': None}, id='run-804bad5b-c958-45f4-9804-a8c8eaead3cd-0', tool_calls=[{'name': 'duckduckgo_search', 'args': {'query': \"Elon Musk's age\"}, 'id': 'call_vw0f', 'type': 'tool_call'}], usage_metadata={'input_tokens': 1610, 'output_tokens': 88, 'total_tokens': 1698})]}"
      ]
     },
     "execution_count": 100,
     "metadata": {},
     "output_type": "execute_result"
    }
   ],
   "source": [
    "app4.invoke({\"messages\": [(\"What will be addition of Elon Mask's age and Virat Kohli's age?\")]}, config=config)"
   ]
  },
  {
   "cell_type": "code",
   "execution_count": 101,
   "metadata": {},
   "outputs": [
    {
     "name": "stderr",
     "output_type": "stream",
     "text": [
      "/home/bishwayansaha99/langchain/venv/lib/python3.12/site-packages/langchain_community/utilities/duckduckgo_search.py:64: UserWarning: backend='api' is deprecated, using backend='auto'\n",
      "  ddgs_gen = ddgs.text(\n"
     ]
    },
    {
     "data": {
      "text/plain": [
       "{'messages': [HumanMessage(content=\"What will be addition of Elon Mask's age and Virat Kohli's age?\", additional_kwargs={}, response_metadata={}, id='0edecbe7-1853-434e-bf20-1a7266c83611'),\n",
       "  AIMessage(content='', additional_kwargs={'tool_calls': [{'id': 'call_vw0f', 'function': {'arguments': '{\"query\":\"Elon Musk\\'s age\"}', 'name': 'duckduckgo_search'}, 'type': 'function'}]}, response_metadata={'token_usage': {'completion_tokens': 88, 'prompt_tokens': 1610, 'total_tokens': 1698, 'completion_time': 0.16, 'prompt_time': 0.072403784, 'queue_time': 0.021526045000000008, 'total_time': 0.232403784}, 'model_name': 'gemma2-9b-it', 'system_fingerprint': 'fp_10c08bf97d', 'finish_reason': 'tool_calls', 'logprobs': None}, id='run-804bad5b-c958-45f4-9804-a8c8eaead3cd-0', tool_calls=[{'name': 'duckduckgo_search', 'args': {'query': \"Elon Musk's age\"}, 'id': 'call_vw0f', 'type': 'tool_call'}], usage_metadata={'input_tokens': 1610, 'output_tokens': 88, 'total_tokens': 1698}),\n",
       "  ToolMessage(content=\"Elon Musk. Age: 52 years. Nationality: ... Elon Musk's background is often described as coming from a family that was well-off but not extremely wealthy. He was born in Pretoria, South Africa, in 1971. His father, Errol Musk, is a South African electromechanical engineer, pilot, and sailor. ... Elon Musk Age. As of 2024, Elon Musk is 53 years old, with decades of influence behind him and no signs of slowing down. His drive for innovation, particularly in space exploration, artificial intelligence, and electric transportation, keeps him at the forefront of technological advancements. Elon Musk co-founded PayPal, Tesla, The Boring Company, and many others! Read on to learn more about the innovative billionaire! ... At age 12 he created and sold a video game called Blastar to a computer magazine for $500. But his relationship with his father was difficult - his parents divorced when he was 9 years old. Musk chose to live ... Elon Musk (born June 28, 1971, Pretoria, South Africa) is a South African-born American entrepreneur who cofounded the electronic-payment firm PayPal and formed SpaceX, maker of launch vehicles and spacecraft.He was also one of the first significant investors in, as well as chief executive officer of, the electric car manufacturer Tesla. In addition, Musk acquired Twitter (later X) in 2022. Elon Musk is the CEO of Tesla, SpaceX and cofounder of other major companies. ... In 2022, at the age of 74, she appeared on the cover of Sport Illustrated's swimsuit edition. Maye and Musk's ...\", name='duckduckgo_search', id='1e63a734-e40c-4a25-bb1a-7cb7b382392b', tool_call_id='call_vw0f'),\n",
       "  AIMessage(content='', additional_kwargs={'tool_calls': [{'id': 'call_smm7', 'function': {'arguments': '{\"query\":\"Virat Kohli\\'s age\"}', 'name': 'duckduckgo_search'}, 'type': 'function'}]}, response_metadata={'token_usage': {'completion_tokens': 53, 'prompt_tokens': 2040, 'total_tokens': 2093, 'completion_time': 0.096363636, 'prompt_time': 0.111889802, 'queue_time': 0.022266214999999992, 'total_time': 0.208253438}, 'model_name': 'gemma2-9b-it', 'system_fingerprint': 'fp_10c08bf97d', 'finish_reason': 'tool_calls', 'logprobs': None}, id='run-d823c2bb-5654-4e09-b3b3-9e7986781ac7-0', tool_calls=[{'name': 'duckduckgo_search', 'args': {'query': \"Virat Kohli's age\"}, 'id': 'call_smm7', 'type': 'tool_call'}], usage_metadata={'input_tokens': 2040, 'output_tokens': 53, 'total_tokens': 2093})]}"
      ]
     },
     "execution_count": 101,
     "metadata": {},
     "output_type": "execute_result"
    }
   ],
   "source": [
    "app4.invoke(None, config=config)"
   ]
  }
 ],
 "metadata": {
  "kernelspec": {
   "display_name": "venv",
   "language": "python",
   "name": "python3"
  },
  "language_info": {
   "codemirror_mode": {
    "name": "ipython",
    "version": 3
   },
   "file_extension": ".py",
   "mimetype": "text/x-python",
   "name": "python",
   "nbconvert_exporter": "python",
   "pygments_lexer": "ipython3",
   "version": "3.12.3"
  }
 },
 "nbformat": 4,
 "nbformat_minor": 2
}
