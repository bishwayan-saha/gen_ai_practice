{
 "cells": [
  {
   "cell_type": "code",
   "execution_count": 1,
   "metadata": {},
   "outputs": [
    {
     "name": "stderr",
     "output_type": "stream",
     "text": [
      "USER_AGENT environment variable not set, consider setting it to identify your requests.\n"
     ]
    }
   ],
   "source": [
    "from langgraph.graph import START, END, StateGraph\n",
    "from langchain_community.vectorstores import Chroma\n",
    "from langchain.text_splitter import RecursiveCharacterTextSplitter\n",
    "from langchain_community.document_loaders import WebBaseLoader\n",
    "from langchain_ollama import OllamaEmbeddings, OllamaLLM\n",
    "from typing import TypedDict, Annotated, Sequence\n",
    "from pydantic import BaseModel, Field\n",
    "from langchain_core.prompts import ChatPromptTemplate\n",
    "from langchain_core.messages import SystemMessage, BaseMessage, HumanMessage\n",
    "from langchain_core.output_parsers import StrOutputParser\n",
    "from langgraph.graph.message import add_messages\n",
    "from langchain.tools.retriever import create_retriever_tool\n",
    "from langgraph.prebuilt import ToolNode, tools_condition\n",
    "from langchain import hub\n",
    "from IPython.display import Image, display\n",
    "from langchain_groq import ChatGroq\n",
    "from langchain_core.prompts import PromptTemplate"
   ]
  },
  {
   "cell_type": "code",
   "execution_count": 2,
   "metadata": {},
   "outputs": [],
   "source": [
    "llm=ChatGroq(model_name=\"Gemma2-9b-It\")\n",
    "embedding = OllamaEmbeddings(model = \"nomic-embed-text\")"
   ]
  },
  {
   "cell_type": "code",
   "execution_count": 3,
   "metadata": {},
   "outputs": [
    {
     "data": {
      "text/plain": [
       "[Document(metadata={'source': 'https://learn.microsoft.com/en-us/azure/ai-services/computer-vision/overview-identity', 'title': 'What is the Azure AI Face service? - Azure AI services | Microsoft Learn', 'description': 'The Azure AI Face service provides AI algorithms that you use to detect, recognize, and analyze human faces in images.', 'language': 'en-us'}, page_content='What is the Azure AI Face service? - Azure AI services | Microsoft Learn\\n\\n\\n\\n\\nSkip to main content\\n\\n\\nThis browser is no longer supported.\\nUpgrade to Microsoft Edge to take advantage of the latest features, security updates, and technical support.\\n\\nDownload Microsoft Edge\\nMore info about Internet Explorer and Microsoft Edge\\n\\n\\n\\n\\n\\n\\n\\n\\n\\n\\n\\n\\n\\nTable of contents\\n\\n\\n\\nExit focus mode\\n\\n\\n\\n\\n\\n\\n\\n\\n\\n\\n\\n\\n\\n\\n\\n\\n\\n\\n\\n\\n\\n\\n\\n\\n\\n\\n\\n\\nRead in English\\n\\n\\n\\n\\nSave\\n\\n\\n\\n\\n\\n\\n\\n\\n\\n\\n\\n\\n\\n\\nTable of contents\\n\\n\\n\\nRead in English\\n\\n\\n\\n\\nSave\\n\\n\\n\\n\\n\\nAdd to plan\\n\\n\\n\\n\\nEdit\\n\\n\\nShare via\\n\\n\\n\\n\\nFacebook\\n\\n\\n\\n\\n\\nx.com\\n\\n\\n\\n\\n\\nLinkedIn\\n\\n\\n\\n\\n\\nEmail\\n\\n\\n\\n\\n\\nPrint\\n\\n\\n\\n\\n\\n\\n\\n\\n\\nTable of contents\\n\\nWhat is the Azure AI Face service?\\n\\nArticle08/28/2024\\n\\n4 contributors\\n\\n\\n\\n\\n\\n\\n\\nFeedback'),\n",
       " Document(metadata={'source': 'https://learn.microsoft.com/en-us/azure/ai-services/computer-vision/overview-identity', 'title': 'What is the Azure AI Face service? - Azure AI services | Microsoft Learn', 'description': 'The Azure AI Face service provides AI algorithms that you use to detect, recognize, and analyze human faces in images.', 'language': 'en-us'}, page_content='What is the Azure AI Face service?\\n\\nArticle08/28/2024\\n\\n4 contributors\\n\\n\\n\\n\\n\\n\\n\\nFeedback\\n\\n\\nIn this article\\nThe Azure AI Face service provides AI algorithms that detect, recognize, and analyze human faces in images. Facial recognition software is important in many scenarios, such as identification, touchless access control, and automatic face blurring for privacy.\\nYou can use the Face service through a client library SDK or by calling the REST API directly. Follow the quickstart to get started.\\n\\nQuickstart\\n\\nOr, you can try out the capabilities of Face service quickly and easily in your browser using Vision Studio.\\n\\nTry Vision Studio for Face\\n\\n\\nCaution\\nFace service access is limited based on eligibility and usage criteria in order to support our Responsible AI principles. Face service is only available to Microsoft managed customers and partners. Use the Face Recognition intake form to apply for access. For more information, see the Face limited access page.'),\n",
       " Document(metadata={'source': 'https://learn.microsoft.com/en-us/azure/ai-services/computer-vision/overview-identity', 'title': 'What is the Azure AI Face service? - Azure AI services | Microsoft Learn', 'description': 'The Azure AI Face service provides AI algorithms that you use to detect, recognize, and analyze human faces in images.', 'language': 'en-us'}, page_content='Important\\nIf you are using Microsoft products or services to process Biometric Data, you are responsible for: (i) providing notice to data subjects, including with respect to retention periods and destruction; (ii) obtaining consent from data subjects; and (iii) deleting the Biometric Data, all as appropriate and required under applicable Data Protection Requirements. \"Biometric Data\" will have the meaning set forth in Article 4 of the GDPR and, if applicable, equivalent terms in other data protection requirements. For related information, see Data and Privacy for Face.\\n\\nThis documentation contains the following types of articles:'),\n",
       " Document(metadata={'source': 'https://learn.microsoft.com/en-us/azure/ai-services/computer-vision/overview-identity', 'title': 'What is the Azure AI Face service? - Azure AI services | Microsoft Learn', 'description': 'The Azure AI Face service provides AI algorithms that you use to detect, recognize, and analyze human faces in images.', 'language': 'en-us'}, page_content=\"This documentation contains the following types of articles:\\n\\nThe quickstarts are step-by-step instructions that let you make calls to the service and get results in a short period of time.\\nThe how-to guides contain instructions for using the service in more specific or customized ways.\\nThe conceptual articles provide in-depth explanations of the service's functionality and features.\\nThe tutorials are longer guides that show you how to use this service as a component in broader business solutions.\\n\\nFor a more structured approach, follow a Training module for Face.\\n\\nDetect and analyze faces with the Face service\"),\n",
       " Document(metadata={'source': 'https://learn.microsoft.com/en-us/azure/ai-services/computer-vision/overview-identity', 'title': 'What is the Azure AI Face service? - Azure AI services | Microsoft Learn', 'description': 'The Azure AI Face service provides AI algorithms that you use to detect, recognize, and analyze human faces in images.', 'language': 'en-us'}, page_content='Example use cases\\nThe following are common use cases for the Face service:\\nVerify user identity: Verify a person against a trusted face image. This verification could be used to grant access to digital or physical properties such as a bank account, access to a building, and so on. In most cases, the trusted face image could come from a government-issued ID such as a passport or driver’s license, or it could come from an enrollment photo taken in person. During verification, liveness detection can play a critical role in verifying that the image comes from a real person, not a printed photo or mask. For more details on verification with liveness, see the liveness tutorial. For identity verification without liveness, follow the quickstart.'),\n",
       " Document(metadata={'source': 'https://learn.microsoft.com/en-us/azure/ai-services/computer-vision/overview-identity', 'title': 'What is the Azure AI Face service? - Azure AI services | Microsoft Learn', 'description': 'The Azure AI Face service provides AI algorithms that you use to detect, recognize, and analyze human faces in images.', 'language': 'en-us'}, page_content=\"Liveness detection: Liveness detection is an anti-spoofing feature that checks whether a user is physically present in front of the camera. It's used to prevent spoofing attacks using a printed photo, recorded video, or a 3D mask of the user's face. Liveness tutorial\\nTouchless access control: Compared to today’s methods like cards or tickets, opt-in face identification enables an enhanced access control experience while reducing the hygiene and security risks from card sharing, loss, or theft. Facial recognition assists the check-in process with a human in the loop for check-ins in airports, stadiums, theme parks, buildings, reception kiosks at offices, hospitals, gyms, clubs, or schools.\\nFace redaction: Redact or blur detected faces of people recorded in a video to protect their privacy.\\nSee the customer checkin management and face photo tagging scenarios on GitHub for working examples of facial recognition technology.\"),\n",
       " Document(metadata={'source': 'https://learn.microsoft.com/en-us/azure/ai-services/computer-vision/overview-identity', 'title': 'What is the Azure AI Face service? - Azure AI services | Microsoft Learn', 'description': 'The Azure AI Face service provides AI algorithms that you use to detect, recognize, and analyze human faces in images.', 'language': 'en-us'}, page_content='Warning\\nOn June 11, 2020, Microsoft announced that it will not sell facial recognition technology to police departments in the United States until strong regulation, grounded in human rights, has been enacted. As such, customers may not use facial recognition features or functionality included in Azure Services, such as Face or Video Indexer, if a customer is, or is allowing use of such services by or for, a police department in the United States. When you create a new Face resource, you must acknowledge and agree in the Azure portal that you will not use the service by or for a police department in the United States and that you have reviewed the Responsible AI documentation and will use this service in accordance with it.'),\n",
       " Document(metadata={'source': 'https://learn.microsoft.com/en-us/azure/ai-services/computer-vision/overview-identity', 'title': 'What is the Azure AI Face service? - Azure AI services | Microsoft Learn', 'description': 'The Azure AI Face service provides AI algorithms that you use to detect, recognize, and analyze human faces in images.', 'language': 'en-us'}, page_content=\"Face detection and analysis\\nFace detection is required as a first step in all the other scenarios. The Detect API detects human faces in an image and returns the rectangle coordinates of their locations. It also returns a unique ID that represents the stored face data. This is used in later operations to identify or verify faces.\\nOptionally, face detection can extract a set of face-related attributes, such as head pose, age, emotion, facial hair, and glasses. These attributes are general predictions, not actual classifications. Some attributes are useful to ensure that your application is getting high-quality face data when users add themselves to a Face service. For example, your application could advise users to take off their sunglasses if they're wearing sunglasses.\"),\n",
       " Document(metadata={'source': 'https://learn.microsoft.com/en-us/azure/ai-services/computer-vision/overview-identity', 'title': 'What is the Azure AI Face service? - Azure AI services | Microsoft Learn', 'description': 'The Azure AI Face service provides AI algorithms that you use to detect, recognize, and analyze human faces in images.', 'language': 'en-us'}, page_content='Caution\\nMicrosoft has retired or limited facial recognition capabilities that can be used to try to infer emotional states and identity attributes which, if misused, can subject people to stereotyping, discrimination or unfair denial of services. The retired capabilities are emotion and gender. The limited capabilities are age, smile, facial hair, hair and makeup. Email Azure Face team if you have a responsible use case that would benefit from the use of any of the limited capabilities. Read more about this decision here.\\n\\nFor more information on face detection and analysis, see the Face detection concepts article. Also see the Detect API reference documentation.\\nYou can try out Face detection quickly and easily in your browser using Vision Studio.\\n\\nTry Vision Studio for Face\\n\\nLiveness detection'),\n",
       " Document(metadata={'source': 'https://learn.microsoft.com/en-us/azure/ai-services/computer-vision/overview-identity', 'title': 'What is the Azure AI Face service? - Azure AI services | Microsoft Learn', 'description': 'The Azure AI Face service provides AI algorithms that you use to detect, recognize, and analyze human faces in images.', 'language': 'en-us'}, page_content='Try Vision Studio for Face\\n\\nLiveness detection\\n\\nImportant\\nThe Face client SDKs for liveness are a gated feature. You must request access to the liveness feature by filling out the Face Recognition intake form. When your Azure subscription is granted access, you can download the Face liveness SDK.'),\n",
       " Document(metadata={'source': 'https://learn.microsoft.com/en-us/azure/ai-services/computer-vision/overview-identity', 'title': 'What is the Azure AI Face service? - Azure AI services | Microsoft Learn', 'description': 'The Azure AI Face service provides AI algorithms that you use to detect, recognize, and analyze human faces in images.', 'language': 'en-us'}, page_content='Face Liveness detection can be used to determine if a face in an input video stream is real (live) or fake (spoof). This is a crucial building block in a biometric authentication system to prevent spoofing attacks from imposters trying to gain access to the system using a photograph, video, mask, or other means to impersonate another person.\\nThe goal of liveness detection is to ensure that the system is interacting with a physically present live person at the time of authentication. Such systems have become increasingly important with the rise of digital finance, remote access control, and online identity verification processes.'),\n",
       " Document(metadata={'source': 'https://learn.microsoft.com/en-us/azure/ai-services/computer-vision/overview-identity', 'title': 'What is the Azure AI Face service? - Azure AI services | Microsoft Learn', 'description': 'The Azure AI Face service provides AI algorithms that you use to detect, recognize, and analyze human faces in images.', 'language': 'en-us'}, page_content='The liveness detection solution successfully defends against a variety of spoof types ranging from paper printouts, 2d/3d masks, and spoof presentations on phones and laptops. Liveness detection is an active area of research, with continuous improvements being made to counteract increasingly sophisticated spoofing attacks over time. Continuous improvements will be rolled out to the client and the service components over time as the overall solution gets more robust to new types of attacks.\\nOur liveness detection solution meets iBeta Level 1 and 2 ISO/IEC 30107-3 compliance.\\nTutorial'),\n",
       " Document(metadata={'source': 'https://learn.microsoft.com/en-us/azure/ai-services/computer-vision/overview-identity', 'title': 'What is the Azure AI Face service? - Azure AI services | Microsoft Learn', 'description': 'The Azure AI Face service provides AI algorithms that you use to detect, recognize, and analyze human faces in images.', 'language': 'en-us'}, page_content='Face liveness Tutorial\\nConcepts\\nAbuse monitoring\\n\\nFace liveness SDK reference docs:\\n\\nJava (Android)\\nSwift (iOS)\\nJavaScript (Web)\\n\\nFace recognition operations\\nModern enterprises and apps can use the Face recognition technologies, including Face verification (\"one-to-one\" matching) and Face identification (\"one-to-many\" matching) to confirm that a user is who they claim to be.\\nIdentification\\nFace identification can address \"one-to-many\" matching of one face in an image to a set of faces in a secure repository. Match candidates are returned based on how closely their face data matches the query face. This scenario is used in granting building or airport access to a certain group of people or verifying the user of a device.\\nThe following image shows an example of a database named \"myfriends\". Each group can contain up to 1 million different person objects. Each person object can have up to 248 faces registered.'),\n",
       " Document(metadata={'source': 'https://learn.microsoft.com/en-us/azure/ai-services/computer-vision/overview-identity', 'title': 'What is the Azure AI Face service? - Azure AI services | Microsoft Learn', 'description': 'The Azure AI Face service provides AI algorithms that you use to detect, recognize, and analyze human faces in images.', 'language': 'en-us'}, page_content='After you create and train a group, you can do identification against the group with a new detected face. If the face is identified as a person in the group, the person object is returned.\\nVerification\\nThe verification operation answers the question, \"Do these two faces belong to the same person?\".\\nVerification is also a \"one-to-one\" matching of a face in an image to a single face from a secure repository or photo to verify that they\\'re the same individual. Verification can be used for access control, such as a banking app that enables users to open a credit account remotely by taking a new picture of themselves and sending it with a picture of their photo ID. It can also be used as a final check on the results of an Identification API call.\\nFor more information about Face recognition, see the Facial recognition concepts guide or the Identify and Verify API reference documentation.\\nFind similar faces'),\n",
       " Document(metadata={'source': 'https://learn.microsoft.com/en-us/azure/ai-services/computer-vision/overview-identity', 'title': 'What is the Azure AI Face service? - Azure AI services | Microsoft Learn', 'description': 'The Azure AI Face service provides AI algorithms that you use to detect, recognize, and analyze human faces in images.', 'language': 'en-us'}, page_content='Find similar faces\\nThe Find Similar operation does face matching between a target face and a set of candidate faces, finding a smaller set of faces that look similar to the target face. This is useful for doing a face search by image.\\nThe service supports two working modes, matchPerson and matchFace. The matchPerson mode returns similar faces after filtering for the same person by using the Verify API. The matchFace mode ignores the same-person filter. It returns a list of similar candidate faces that may or may not belong to the same person.\\nThe following example shows the target face:'),\n",
       " Document(metadata={'source': 'https://learn.microsoft.com/en-us/azure/ai-services/computer-vision/overview-identity', 'title': 'What is the Azure AI Face service? - Azure AI services | Microsoft Learn', 'description': 'The Azure AI Face service provides AI algorithms that you use to detect, recognize, and analyze human faces in images.', 'language': 'en-us'}, page_content='And these images are the candidate faces:'),\n",
       " Document(metadata={'source': 'https://learn.microsoft.com/en-us/azure/ai-services/computer-vision/overview-identity', 'title': 'What is the Azure AI Face service? - Azure AI services | Microsoft Learn', 'description': 'The Azure AI Face service provides AI algorithms that you use to detect, recognize, and analyze human faces in images.', 'language': 'en-us'}, page_content='To find four similar faces, the matchPerson mode returns A and B, which show the same person as the target face. The matchFace mode returns A, B, C, and D, which is exactly four candidates, even if some aren\\'t the same person as the target or have low similarity. For more information, the Find Similar API reference documentation.\\nGroup faces\\nThe Group operation divides a set of unknown faces into several smaller groups based on similarity. Each group is a disjoint proper subset of the original set of faces. It also returns a single \"messyGroup\" array that contains the face IDs for which no similarities were found.\\nAll of the faces in a returned group are likely to belong to the same person, but there can be several different groups for a single person. Those groups are differentiated by another factor, such as expression, for example. For more information, see the Group API reference documentation.\\nInput requirements\\nGeneral image input requirements:'),\n",
       " Document(metadata={'source': 'https://learn.microsoft.com/en-us/azure/ai-services/computer-vision/overview-identity', 'title': 'What is the Azure AI Face service? - Azure AI services | Microsoft Learn', 'description': 'The Azure AI Face service provides AI algorithms that you use to detect, recognize, and analyze human faces in images.', 'language': 'en-us'}, page_content=\"The supported input image formats are JPEG, PNG, GIF (the first frame), BMP.\\nThe image file size should be no larger than 6 MB.\\n\\nInput requirements for face detection:\\n\\nThe minimum detectable face size is 36 x 36 pixels in an image that is no larger than 1920 x 1080 pixels. Images with larger than 1920 x 1080 pixels have a proportionally larger minimum face size. Reducing the face size might cause some faces not to be detected, even if they're larger than the minimum detectable face size.\\nThe maximum detectable face size is 4096 x 4096 pixels.\\nFaces outside the size range of 36 x 36 to 4096 x 4096 pixels will not be detected.\\n\\nInput requirements for face recognition:\\n\\nSome faces might not be recognized because of photo composition, such as:\\n\\nImages with extreme lighting, for example, severe backlighting.\\nObstructions that block one or both eyes.\\nDifferences in hair type or facial hair.\\nChanges in facial appearance because of age.\\nExtreme facial expressions.\"),\n",
       " Document(metadata={'source': 'https://learn.microsoft.com/en-us/azure/ai-services/computer-vision/overview-identity', 'title': 'What is the Azure AI Face service? - Azure AI services | Microsoft Learn', 'description': 'The Azure AI Face service provides AI algorithms that you use to detect, recognize, and analyze human faces in images.', 'language': 'en-us'}, page_content=\"Data privacy and security\\nAs with all of the Azure AI services resources, developers who use the Face service must be aware of Microsoft's policies on customer data. For more information, see the Azure AI services page on the Microsoft Trust Center.\\nNext steps\\nFollow a quickstart to code the basic components of a face recognition app in the language of your choice.\\n\\nQuickstart\\n\\n\\n\\n\\n\\n\\n\\nFeedback\\n\\nWas this page helpful?\\n\\n\\n\\n\\n\\nYes\\n\\n\\n\\n\\n\\nNo\\n\\n\\n\\n\\nProvide product feedback\\n|\\nGet help at Microsoft Q&A\\n\\n\\n\\n\\nAdditional resources\\n\\n\\n\\n\\n\\n\\n\\n\\n\\n\\n\\nCalifornia Consumer Privacy Act (CCPA) Opt-Out Icon\\n\\n\\n\\n\\n\\nYour Privacy Choices\\n\\n\\n\\n\\n\\n\\n\\n\\nTheme\\n\\n\\n\\n\\n\\n\\n\\n\\n\\n\\n\\n\\n\\n\\n\\n\\n\\n\\n\\n\\n\\n\\nLight\\n\\n\\n\\n\\n\\n\\n\\n\\n\\n\\n\\n\\n\\n\\n\\n\\n\\n\\nDark\\n\\n\\n\\n\\n\\n\\n\\n\\n\\n\\n\\n\\n\\n\\n\\n\\n\\n\\nHigh contrast\\n\\n\\n\\n\\n\\n\\n\\n\\nPrevious Versions\\nBlog\\nContributePrivacyTerms of UseTrademarks© Microsoft 2025\\n\\n\\n\\nAdditional resources\\n\\n\\n\\n\\nIn this article\\n\\n\\n\\n\\n\\n\\n\\n\\n\\n\\n\\n\\n\\n\\n\\n\\n\\n\\n\\n\\n\\nCalifornia Consumer Privacy Act (CCPA) Opt-Out Icon\\n\\n\\n\\n\\n\\nYour Privacy Choices\\n\\n\\n\\n\\n\\n\\n\\n\\nTheme\\n\\n\\n\\n\\n\\n\\n\\n\\n\\n\\n\\n\\n\\n\\n\\n\\n\\n\\n\\n\\n\\n\\nLight\"),\n",
       " Document(metadata={'source': 'https://learn.microsoft.com/en-us/azure/ai-services/computer-vision/overview-identity', 'title': 'What is the Azure AI Face service? - Azure AI services | Microsoft Learn', 'description': 'The Azure AI Face service provides AI algorithms that you use to detect, recognize, and analyze human faces in images.', 'language': 'en-us'}, page_content='Your Privacy Choices\\n\\n\\n\\n\\n\\n\\n\\n\\nTheme\\n\\n\\n\\n\\n\\n\\n\\n\\n\\n\\n\\n\\n\\n\\n\\n\\n\\n\\n\\n\\n\\n\\nLight\\n\\n\\n\\n\\n\\n\\n\\n\\n\\n\\n\\n\\n\\n\\n\\n\\n\\n\\nDark\\n\\n\\n\\n\\n\\n\\n\\n\\n\\n\\n\\n\\n\\n\\n\\n\\n\\n\\nHigh contrast\\n\\n\\n\\n\\n\\n\\n\\n\\nPrevious Versions\\nBlog\\nContributePrivacyTerms of UseTrademarks© Microsoft 2025')]"
      ]
     },
     "execution_count": 3,
     "metadata": {},
     "output_type": "execute_result"
    }
   ],
   "source": [
    "loader = WebBaseLoader(web_path=\"https://learn.microsoft.com/en-us/azure/ai-services/computer-vision/overview-identity\")\n",
    "docs = loader.load()\n",
    "splitter = RecursiveCharacterTextSplitter(chunk_size=1000, chunk_overlap=100)\n",
    "docs = splitter.split_documents(docs)\n",
    "docs"
   ]
  },
  {
   "cell_type": "code",
   "execution_count": 4,
   "metadata": {},
   "outputs": [],
   "source": [
    "vector_store = Chroma.from_documents(\n",
    "    collection_name = \"agentic_rag\", embedding=embedding, documents=docs\n",
    ")\n",
    "\n",
    "retriever = vector_store.as_retriever()\n",
    "\n",
    "retriever_tool=create_retriever_tool(\n",
    "    retriever,\n",
    "    \"retrieve_blog_posts\",\n",
    "    \"Search and return information about Azure fce services.You are a specialized assistant. Use the 'retriever_tool' **only** when the query explicitly relates to LangChain blog data. For all other queries, respond directly without using any tool. For simple queries like 'hi', 'hello', or 'how are you', provide a normal response.\",\n",
    "    )\n",
    "\n",
    "tools = [retriever_tool]"
   ]
  },
  {
   "cell_type": "code",
   "execution_count": 5,
   "metadata": {},
   "outputs": [],
   "source": [
    "class AgentState(TypedDict):\n",
    "    messages: Annotated[Sequence[BaseMessage], add_messages]\n",
    "\n",
    "\n",
    "class DocumentGrader(BaseModel):\n",
    "    score:bool =  Field(description=\"A binary score, which is True if question is related to the given information, otherwise False\")"
   ]
  },
  {
   "cell_type": "code",
   "execution_count": null,
   "metadata": {},
   "outputs": [],
   "source": [
    "prompt_template = ChatPromptTemplate.from_template(\n",
    "    [\n",
    "        SystemMessage(\n",
    "        \"\"\"\n",
    "            You are an AI assistant. You check relevance of a documents w.r.t given user question.\n",
    "            If the documnet's internal meaning is close to that of the question, consider the document as relevant and return True.\n",
    "            Otherwise False\n",
    "        \"\"\"),\n",
    "        (\"human\", \"Retrieved Document: {documents} \\n Question {question}\")\n",
    "    ]\n",
    ")\n",
    "llm_with_strucutred_output = llm.with_structured_output(DocumentGrader)\n",
    "documents = retriever.get_relevant_documents()\n",
    "chain = prompt_template | llm_with_strucutred_output\n",
    "\n",
    "\n",
    "response = chain.invoke({\"question\" : question, \"documents\" : documents})"
   ]
  },
  {
   "cell_type": "code",
   "execution_count": null,
   "metadata": {},
   "outputs": [],
   "source": [
    "wf = StateGraph(AgentState)\n",
    "\n",
    "wf.add_node(\"Docs_Vector_Retrieve\", retrieve)\n",
    "wf.add_node(\"Retrieved_Documnets_Relevance\", documnets_relevance)\n",
    "wf.add_node(\"Content_Generator\", generate)\n",
    "wf.add_node(\"Transform_User_Query\", transform_query)\n",
    "\n",
    "wf.add_edge(START, \"Docs_Vector_Retrieve\")\n",
    "wf.add_edge(\"Docs_Vector_Retrieve\", \"Retrieved_Documnets_Relevance\")\n",
    "wf.add_conditional_edges(\"Retrieved_Documnets_Relevance\", decide_to_generate, {'generate': \"Content_Generator\", 'transform': \"Transform_User_Query\"})\n",
    "wf.add_conditional_edges(\"Content_Generato\", rewrite_query, {'yes': 'Transform_Query', 'no': END})\n",
    "wf.add_conditional_edges(\"Transform_Query\", retrieve_after_transformation, {\"retrieve\": \"Docs_Vector_Retrieve\", \"irrelevant\": END})\n",
    "\n",
    "app = wf.compile()"
   ]
  }
 ],
 "metadata": {
  "kernelspec": {
   "display_name": "venv",
   "language": "python",
   "name": "python3"
  },
  "language_info": {
   "codemirror_mode": {
    "name": "ipython",
    "version": 3
   },
   "file_extension": ".py",
   "mimetype": "text/x-python",
   "name": "python",
   "nbconvert_exporter": "python",
   "pygments_lexer": "ipython3",
   "version": "3.12.3"
  }
 },
 "nbformat": 4,
 "nbformat_minor": 2
}
