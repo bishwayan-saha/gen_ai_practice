{
 "cells": [
  {
   "cell_type": "code",
   "execution_count": 1,
   "metadata": {},
   "outputs": [
    {
     "name": "stderr",
     "output_type": "stream",
     "text": [
      "USER_AGENT environment variable not set, consider setting it to identify your requests.\n",
      "/home/bishwayansaha99/langchain/venv/lib/python3.12/site-packages/tqdm/auto.py:21: TqdmWarning: IProgress not found. Please update jupyter and ipywidgets. See https://ipywidgets.readthedocs.io/en/stable/user_install.html\n",
      "  from .autonotebook import tqdm as notebook_tqdm\n"
     ]
    }
   ],
   "source": [
    "from typing import List, TypedDict\n",
    "\n",
    "from dotenv import load_dotenv\n",
    "from IPython.display import Image, display\n",
    "from langchain_community.document_loaders import PyPDFLoader, WebBaseLoader\n",
    "from langchain_community.tools import DuckDuckGoSearchRun, TavilySearchResults\n",
    "from langchain_community.vectorstores import Chroma\n",
    "from langchain_core.messages import SystemMessage\n",
    "from langchain_core.output_parsers import StrOutputParser\n",
    "from langchain_core.prompts import ChatPromptTemplate\n",
    "from langchain_core.runnables import RunnablePassthrough\n",
    "from langchain_google_genai import (ChatGoogleGenerativeAI,\n",
    "                                    GoogleGenerativeAIEmbeddings)\n",
    "from langgraph.graph import END, START, StateGraph\n",
    "from pydantic import BaseModel, Field\n",
    "\n",
    "from langchain import hub\n",
    "from langchain.text_splitter import RecursiveCharacterTextSplitter"
   ]
  },
  {
   "cell_type": "code",
   "execution_count": 3,
   "metadata": {},
   "outputs": [],
   "source": [
    "load_dotenv()\n",
    "gemini = ChatGoogleGenerativeAI(model=\"gemini-1.5-flash\")\n",
    "embedding = GoogleGenerativeAIEmbeddings(model=\"models/embedding-001\")\n",
    "tavily_tool = TavilySearchResults()\n",
    "duck_tool = DuckDuckGoSearchRun()"
   ]
  },
  {
   "cell_type": "code",
   "execution_count": 4,
   "metadata": {},
   "outputs": [],
   "source": [
    "url = \"https://medium.com/@RaghavPrabhu/understanding-of-convolutional-neural-network-cnn-deep-learning-99760835f148\"\n",
    "loader = WebBaseLoader(url)\n",
    "docs = loader.load()\n",
    "splitter = RecursiveCharacterTextSplitter(chunk_size=1000, chunk_overlap = 10)\n",
    "doc_chunks = splitter.split_documents(documents=docs)\n",
    "\n",
    "db = Chroma.from_documents(documents=doc_chunks, embedding=embedding, collection_name=\"rag-data\")\n",
    "retriever = db.as_retriever()"
   ]
  },
  {
   "cell_type": "code",
   "execution_count": 46,
   "metadata": {},
   "outputs": [],
   "source": [
    "class AgentState(TypedDict):\n",
    "    question: str\n",
    "    answer: str\n",
    "    web_search: bool\n",
    "    documents: List[str]\n",
    "    \n",
    "\n",
    "class DocumentRelevance(BaseModel):\n",
    "    \"\"\"Provide a score (True or False) regarding query relevance with respect to vector database documnets\"\"\"\n",
    "    is_relevant: bool = Field(..., description=\"True is query is relevant to the documents chunks stored in vector DB else False\")"
   ]
  },
  {
   "cell_type": "code",
   "execution_count": 60,
   "metadata": {},
   "outputs": [],
   "source": [
    "def relevance_checker(state: AgentState):\n",
    "    question = state[\"question\"]\n",
    "    documents = state[\"documents\"]\n",
    "    llm_relevance_checker = gemini.with_structured_output(DocumentRelevance)\n",
    "    do_web_search = False\n",
    "    prompt_template = ChatPromptTemplate.from_messages(\n",
    "        [\n",
    "            SystemMessage(\n",
    "                \"\"\"\n",
    "                    You are ans expert in finding relevance of a question w.r.t documnets retrieved from vector database.\n",
    "                    If the documents contain keyword or semantic meaning which can be correlated to the given user question, mark it as\n",
    "                    relevant and provide a binary answer of True or False. True when relevant, False otherwise.\n",
    "                \"\"\"\n",
    "            ),\n",
    "            (\n",
    "                \"human\",\n",
    "                \"Here is the question: {question}\\n and here is the retrieved documnets {documents}\",\n",
    "            ),\n",
    "        ]\n",
    "    )\n",
    "\n",
    "    relevance_chain = prompt_template | llm_relevance_checker\n",
    "    relevant_docs = []\n",
    "    for i, doc in enumerate(documents):\n",
    "        response: DocumentRelevance = relevance_chain.invoke(\n",
    "            {\"question\": question, \"documents\": doc.page_content}\n",
    "        )\n",
    "        if response.is_relevant:\n",
    "            print(f\"\\n=====Doc {i} Relevant=====\")\n",
    "            relevant_docs.append(doc)\n",
    "        else:\n",
    "            print(f\"\\n=====Doc {i} is not Relevant=====\")\n",
    "            do_web_search = True\n",
    "    return {\n",
    "        \"question\": question,\n",
    "        \"documents\": relevant_docs,\n",
    "        \"web_search\": do_web_search,\n",
    "    }"
   ]
  },
  {
   "cell_type": "code",
   "execution_count": 50,
   "metadata": {},
   "outputs": [],
   "source": [
    "def restructure_question(state: AgentState):\n",
    "    question = state[\"question\"]\n",
    "    prompt_template = ChatPromptTemplate.from_messages(\n",
    "        [\n",
    "            SystemMessage(\n",
    "                \"\"\" \n",
    "                    You are an expert in re-formulating an user question, making it grammatically correct irrespective of any previous\n",
    "                    context so that the restructured question can be used to search web to find a specific answer.\n",
    "                    Just return the reformulated question. No prefix, suffix or unnecessary alphanumeric characters are NOT required.\n",
    "                \"\"\"\n",
    "            ),\n",
    "            (\"human\", \"Here is the question: {question}\"),\n",
    "        ]\n",
    "    )\n",
    "\n",
    "    rewrite_question_chain = prompt_template | gemini | StrOutputParser()\n",
    "    response = rewrite_question_chain.invoke({\"question\": question})\n",
    "    return {\"question\": response}"
   ]
  },
  {
   "cell_type": "code",
   "execution_count": 51,
   "metadata": {},
   "outputs": [],
   "source": [
    "def generate_answer(state: AgentState):\n",
    "    question = state[\"question\"]\n",
    "    documents = state[\"documents\"]\n",
    "    prompt = hub.pull(\"rlm/rag-prompt\")\n",
    "\n",
    "    rag_chain = (\n",
    "        {\"question\": RunnablePassthrough(), \"context\": documents} | prompt | gemini | StrOutputParser()\n",
    "    )\n",
    "    response = rag_chain.invoke(question)\n",
    "    return {\"question\": question, \"documents\": documents, \"answer\": response}"
   ]
  },
  {
   "cell_type": "code",
   "execution_count": 61,
   "metadata": {},
   "outputs": [],
   "source": [
    "def search_from_web(state: AgentState):\n",
    "    print(f\"\\n=====Initiating web search=====\")\n",
    "    question = state[\"question\"]\n",
    "    search = DuckDuckGoSearchRun()\n",
    "    response = search.invoke(question)\n",
    "    return {\"answer\": response}"
   ]
  },
  {
   "cell_type": "code",
   "execution_count": 53,
   "metadata": {},
   "outputs": [],
   "source": [
    "def web_search_or_vector_db(state: AgentState):\n",
    "    do_web_search = state[\"web_search\"]\n",
    "    if do_web_search:\n",
    "        return \"web\"\n",
    "    return \"vector\""
   ]
  },
  {
   "cell_type": "code",
   "execution_count": 28,
   "metadata": {},
   "outputs": [
    {
     "name": "stderr",
     "output_type": "stream",
     "text": [
      "/home/bishwayansaha99/langchain/venv/lib/python3.12/site-packages/langchain_community/utilities/duckduckgo_search.py:64: UserWarning: backend='api' is deprecated, using backend='auto'\n",
      "  ddgs_gen = ddgs.text(\n"
     ]
    },
    {
     "name": "stdout",
     "output_type": "stream",
     "text": [
      "The 8085 microprocessor is an 8-bit microprocessor that was developed by Intel in the mid-1970s. It was widely used in the early days of personal computing and was a popular choice for hobbyists and enthusiasts due to its simplicity and ease of use. ... The 8086 chip, presented by Intel in 1978, is a critical part in the development of ... The 8085 microprocessor is an 8-bit microprocessor. It consists of a 40-pin I.C. package and is fabricated on a single LSI chip. The Intel 8085 only uses a single +5v dc supply for its operation. The clock speed of the microprocessor is about 3MHz and the clock cycle is 320 ns. The time for the clock cycle of Intel 8085AH-2, the version is 200 ns. Developed by Intel and released in March 1976, the 8085 is an 8-bit microprocessor similar to the 8080, with two additional instructions added for its serial I/O and interrupt features.It utilized less circuitry, which allowed lower-cost computers to be built using the 8085 microprocessor. The 8085 featured a +5-volt power supply using depletion-mode transistors. Slower Speed: The clock speed of 8085 is 3 MHz which is significantly slower as compared to present day processor. What is 8086 Microprocessor? 8086 Microprocessor is an advanced version of the 8085 Microprocessor, designed by Intel in 1976. The 8085 microprocessor, developed by Intel in 1976, is an 8-bit microprocessor widely used in embedded systems and small-scale computing devices. It processes data in 8-bit chunks and is a significant part of the 8-bit microprocessor family. Below is a summary of its main functional units: Functional Units of the 8085 Microprocessor 1.\n",
      "<class 'str'>\n"
     ]
    }
   ],
   "source": [
    "search = DuckDuckGoSearchRun()\n",
    "ms = search.invoke(\"What is 8085 chip?\")\n",
    "print(ms)\n",
    "print(type(ms))"
   ]
  },
  {
   "cell_type": "code",
   "execution_count": 54,
   "metadata": {},
   "outputs": [],
   "source": [
    "def retrieve_doc(state: AgentState):\n",
    "    print(state)\n",
    "    question = state[\"question\"]\n",
    "    relevant_docs = retriever.get_relevant_documents(question)\n",
    "    return {\"documents\": relevant_docs, \"question\": question}"
   ]
  },
  {
   "cell_type": "code",
   "execution_count": 62,
   "metadata": {},
   "outputs": [],
   "source": [
    "wf = StateGraph(AgentState)\n",
    "\n",
    "wf.add_node(\"retrieve_doc\", retrieve_doc)\n",
    "wf.add_node(\"doc_relevance_check\", relevance_checker)\n",
    "wf.add_node(\"restructure_question\", restructure_question)\n",
    "wf.add_node(\"generate_answer\", generate_answer)\n",
    "wf.add_node(\"search_from_web\", search_from_web)\n",
    "\n",
    "wf.set_entry_point(\"retrieve_doc\")\n",
    "wf.add_edge(\"retrieve_doc\", \"doc_relevance_check\")\n",
    "wf.add_conditional_edges(\"doc_relevance_check\", web_search_or_vector_db, {\"web\": \"restructure_question\", \"vector\": \"generate_answer\"})\n",
    "wf.add_edge(\"restructure_question\", \"search_from_web\")\n",
    "wf.set_finish_point(\"generate_answer\")\n",
    "wf.set_finish_point(\"search_from_web\")\n",
    "\n",
    "app = wf.compile()"
   ]
  },
  {
   "cell_type": "code",
   "execution_count": 63,
   "metadata": {},
   "outputs": [
    {
     "data": {
      "image/png": "[encoded data removed]",
      "text/plain": [
       "<IPython.core.display.Image object>"
      ]
     },
     "metadata": {},
     "output_type": "display_data"
    }
   ],
   "source": [
    "display(Image(app.get_graph().draw_mermaid_png()))"
   ]
  },
  {
   "cell_type": "code",
   "execution_count": 64,
   "metadata": {},
   "outputs": [
    {
     "name": "stdout",
     "output_type": "stream",
     "text": [
      "{'question': 'What is Transformer architecture in deep learning?'}\n",
      "\n",
      "=====Doc 0 is not Relevant=====\n",
      "\n",
      "=====Doc 1 is not Relevant=====\n",
      "\n",
      "=====Doc 2 is not Relevant=====\n",
      "\n",
      "=====Doc 3 is not Relevant=====\n",
      "\n",
      "=====Initiating web search=====\n"
     ]
    },
    {
     "name": "stderr",
     "output_type": "stream",
     "text": [
      "/home/bishwayansaha99/langchain/venv/lib/python3.12/site-packages/langchain_community/utilities/duckduckgo_search.py:64: UserWarning: backend='api' is deprecated, using backend='auto'\n",
      "  ddgs_gen = ddgs.text(\n"
     ]
    },
    {
     "name": "stdout",
     "output_type": "stream",
     "text": [
      "Answer to your question is: \n",
      " Transformers are a type of deep learning model that utilizes self-attention mechanisms to process and generate sequences of data efficiently, capturing long-range dependencies and contextual relationships. The article aims to discuss the architecture and working of the transformers model in deep learning. The deep learning field has been experiencing a seismic shift, thanks to the emergence and rapid evolution of Transformer models. ... The main core characteristic of the Transformers architecture is that they maintain the encoder-decoder model. If we start considering a Transformer for language translation as a simple black box, it would take a ... Transformers architecture is a deep learning model introduced in the paper \"Attention Is All You Need\" by Vaswani et al. in 2017. It has revolutionized the field of natural language processing (NLP) and has since been used in various other machine learning tasks due to its remarkable ability to capture long-range dependencies in data and its parallelizable nature. Transformer is a neural network architecture used for performing machine learning tasks. In 2017 Vaswani et al. published a paper \" Attention is All You Need\" in which the transformers architecture was introduced. The article explores the architecture, workings, and applications of transformers. Transformer Architecture is a model that uses self-attention to transform one whole sentence ... The Transformer is an architecture used in deep learning, achieving significant success particularly in fields such as Natural Language Processing (NLP) and Computer Vision. Introduced by Google in the 2017 paper titled \"Attention is All You Need,\" this architecture diverges from traditional sequential models by learning relationships ...\n"
     ]
    }
   ],
   "source": [
    "answer = app.invoke({\"question\": \"What is Transformer architecture in deep learning?\"})['answer']\n",
    "print(f\"Answer to your question is: \\n {answer}\")"
   ]
  }
 ],
 "metadata": {
  "kernelspec": {
   "display_name": "venv",
   "language": "python",
   "name": "python3"
  },
  "language_info": {
   "codemirror_mode": {
    "name": "ipython",
    "version": 3
   },
   "file_extension": ".py",
   "mimetype": "text/x-python",
   "name": "python",
   "nbconvert_exporter": "python",
   "pygments_lexer": "ipython3",
   "version": "3.12.3"
  }
 },
 "nbformat": 4,
 "nbformat_minor": 2
}
