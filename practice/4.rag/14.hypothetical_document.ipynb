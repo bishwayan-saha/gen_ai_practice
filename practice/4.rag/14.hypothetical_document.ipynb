{
 "cells": [
  {
   "cell_type": "code",
   "execution_count": 12,
   "metadata": {},
   "outputs": [],
   "source": [
    "from langchain_ollama import OllamaLLM, OllamaEmbeddings\n",
    "from langchain_community.vectorstores import Chroma\n",
    "from langchain.text_splitter import RecursiveCharacterTextSplitter\n",
    "from langchain_community.document_loaders import PyPDFLoader\n",
    "from langchain.prompts import ChatPromptTemplate\n",
    "from langchain_core.output_parsers import StrOutputParser\n",
    "from langchain import hub\n",
    "from langchain_core.runnables import RunnablePassthrough"
   ]
  },
  {
   "cell_type": "code",
   "execution_count": 3,
   "metadata": {},
   "outputs": [],
   "source": [
    "llm = OllamaLLM(model=\"llama3.2\")\n",
    "embedding = OllamaEmbeddings(model= \"nomic-embed-text\")"
   ]
  },
  {
   "cell_type": "code",
   "execution_count": 7,
   "metadata": {},
   "outputs": [
    {
     "name": "stdout",
     "output_type": "stream",
     "text": [
      "===== Creating New Vector Database =====\n"
     ]
    }
   ],
   "source": [
    "\n",
    "file_path = \"/home/bishwayansaha99/langchain/docs/attention.pdf\"\n",
    "\n",
    "loader = PyPDFLoader(file_path)\n",
    "documents = loader.load()\n",
    "splitter = RecursiveCharacterTextSplitter(chunk_size=1000, chunk_overlap=100)\n",
    "doc_chunks = splitter.split_documents(documents)\n",
    "print(\"===== Creating New Vector Database =====\")\n",
    "db = Chroma.from_documents(\n",
    "    documents=doc_chunks,\n",
    "    embedding=embedding\n",
    ")\n",
    "\n",
    "retriever = db.as_retriever(embedding=embedding)"
   ]
  },
  {
   "cell_type": "code",
   "execution_count": 10,
   "metadata": {},
   "outputs": [
    {
     "name": "stdout",
     "output_type": "stream",
     "text": [
      "In a transformer model, attention allows the neural network to weigh the importance of different input elements when processing sequences. It's a mechanism that enables the model to focus on the most relevant parts of the input data, rather than considering every element equally. This is achieved through self-attention mechanisms or multi-head attention, which compute weights for every pair of input tokens and sum them up to produce an output.\n"
     ]
    }
   ],
   "source": [
    "prompt_template = ChatPromptTemplate.from_template(\n",
    "    \"\"\"\n",
    "    For the given question, try to generate a hypothetical answer with your knowledge.\n",
    "    Only return the answer.\n",
    "    ------------------------\n",
    "    Question: {question}\n",
    "\"\"\"\n",
    ")\n",
    "hypothetical_chain = prompt_template | llm | StrOutputParser()\n",
    "hypothetical_answer = hypothetical_chain.invoke({'question': 'What is attention in transformer model?'})\n",
    "print(hypothetical_answer)\n"
   ]
  },
  {
   "cell_type": "code",
   "execution_count": 13,
   "metadata": {},
   "outputs": [
    {
     "name": "stderr",
     "output_type": "stream",
     "text": [
      "/home/bishwayansaha99/langchain/venv/lib/python3.12/site-packages/langsmith/client.py:256: LangSmithMissingAPIKeyWarning: API key must be provided when using hosted LangSmith API\n",
      "  warnings.warn(\n"
     ]
    }
   ],
   "source": [
    "def format_response(docs):\n",
    "    return \"\\n\\n\".join([doc.page_content for doc in docs])\n",
    "rag_prompt = hub.pull(\"rlm/rag-prompt\")\n",
    "rag_chain = {\n",
    "    'context': retriever | format_response,\n",
    "    'question': RunnablePassthrough()\n",
    "} | rag_prompt | llm | StrOutputParser()"
   ]
  },
  {
   "cell_type": "code",
   "execution_count": 14,
   "metadata": {},
   "outputs": [
    {
     "data": {
      "text/plain": [
       "'The Transformer model uses self-attention mechanisms to weigh the importance of different input elements when processing sequences. This is achieved through self-attention or multi-head attention, which compute weights for every pair of input tokens. Multi-head attention allows the model to jointly attend to information from different representation subspaces at different positions.'"
      ]
     },
     "execution_count": 14,
     "metadata": {},
     "output_type": "execute_result"
    }
   ],
   "source": [
    "rag_chain.invoke(hypothetical_answer)"
   ]
  },
  {
   "cell_type": "code",
   "execution_count": null,
   "metadata": {},
   "outputs": [],
   "source": []
  }
 ],
 "metadata": {
  "kernelspec": {
   "display_name": "venv",
   "language": "python",
   "name": "python3"
  },
  "language_info": {
   "codemirror_mode": {
    "name": "ipython",
    "version": 3
   },
   "file_extension": ".py",
   "mimetype": "text/x-python",
   "name": "python",
   "nbconvert_exporter": "python",
   "pygments_lexer": "ipython3",
   "version": "3.12.3"
  }
 },
 "nbformat": 4,
 "nbformat_minor": 2
}
