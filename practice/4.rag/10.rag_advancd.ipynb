{
 "cells": [
  {
   "cell_type": "code",
   "execution_count": 32,
   "metadata": {},
   "outputs": [],
   "source": [
    "from dotenv import load_dotenv\n",
    "from langchain_community.vectorstores import FAISS\n",
    "from langchain_community.document_loaders import PyPDFLoader\n",
    "from langchain_core.output_parsers import StrOutputParser\n",
    "from langchain_core.runnables import RunnablePassthrough\n",
    "from langchain_google_genai import GoogleGenerativeAIEmbeddings\n",
    "\n",
    "from langchain import hub\n",
    "from langchain_community.document_transformers import (\n",
    "    EmbeddingsRedundantFilter,\n",
    "    LongContextReorder,\n",
    ")\n",
    "from langchain.retrievers import ContextualCompressionRetriever\n",
    "from langchain.retrievers.document_compressors.base import DocumentCompressorPipeline\n",
    "from langchain.retrievers.document_compressors import LLMChainExtractor, LLMChainFilter, EmbeddingsFilter\n",
    "from langchain.retrievers.merger_retriever import MergerRetriever\n",
    "from langchain.text_splitter import RecursiveCharacterTextSplitter\n",
    "from langchain_ollama import OllamaLLM\n",
    "from langchain_core.prompts import ChatPromptTemplate\n",
    "from langchain_core.messages import SystemMessage\n",
    "from pprint import pprint\n",
    "\n",
    "import os"
   ]
  },
  {
   "cell_type": "code",
   "execution_count": 15,
   "metadata": {},
   "outputs": [],
   "source": [
    "embedding = GoogleGenerativeAIEmbeddings(model=\"models/embedding-001\")\n",
    "model = OllamaLLM(model=\"llama3.2\")"
   ]
  },
  {
   "cell_type": "code",
   "execution_count": 5,
   "metadata": {},
   "outputs": [
    {
     "name": "stdout",
     "output_type": "stream",
     "text": [
      "===== Creating New Vector Database =====\n"
     ]
    }
   ],
   "source": [
    "\n",
    "file_path = \"/home/bishwayansaha99/langchain/docs/ww1.pdf\"\n",
    "\n",
    "loader = PyPDFLoader(file_path)\n",
    "documents = loader.load()\n",
    "splitter = RecursiveCharacterTextSplitter(chunk_size=1000, chunk_overlap=100)\n",
    "doc_chunks = splitter.split_documents(documents)\n",
    "print(\"===== Creating New Vector Database =====\")\n",
    "db = FAISS.from_documents(\n",
    "    documents=doc_chunks,\n",
    "    embedding=embedding\n",
    ")\n",
    "\n",
    "retriever = db.as_retriever(embedding=embedding)"
   ]
  },
  {
   "cell_type": "code",
   "execution_count": 13,
   "metadata": {},
   "outputs": [],
   "source": [
    "def print_documents(docs):\n",
    "    for i, doc in enumerate(docs):\n",
    "        print(f\"Document: {i+1}, Metadata: {doc.metadata}\\n\")\n",
    "        pprint(doc.page_content)\n",
    "        print(\"=\" * 150)"
   ]
  },
  {
   "cell_type": "code",
   "execution_count": 22,
   "metadata": {},
   "outputs": [
    {
     "name": "stdout",
     "output_type": "stream",
     "text": [
      "Document: 1, Metadata: {'source': '/home/bishwayansaha99/langchain/docs/ww1.pdf', 'page': 3}\n",
      "\n",
      "('The war also had major consequences for the European socialist and labour '\n",
      " 'movement. \\n'\n",
      " 'Although well organised in many countries, including Britain , France  and '\n",
      " 'Germany, the \\n'\n",
      " 'socialist movement failed to stop the war in 1 914. Initially skilled '\n",
      " 'workers in the armaments \\n'\n",
      " 'industry were not only exempted from military service but also enjoyed '\n",
      " 'higher wages and \\n'\n",
      " 'better food in return for the banning of strike action. But as the war '\n",
      " 'continued living and \\n'\n",
      " 'working conditions for facto ry workers gradually declined. Socialist groups '\n",
      " 'began to agitate \\n'\n",
      " 'for peace, a process that received a boost as a result of the 1917 Russian '\n",
      " 'revolution. At the \\n'\n",
      " 'end of the war in 1918 the socialist and trade union movement was much '\n",
      " 'stronger than in \\n'\n",
      " '1914. \\n'\n",
      " 'The Great War also saw the introduction of the planned economy and a much '\n",
      " 'bigger role for \\n'\n",
      " 'the state. Soon after the outbreak of war the German government took control '\n",
      " 'over banks,')\n",
      "======================================================================================================================================================\n",
      "Document: 2, Metadata: {'source': '/home/bishwayansaha99/langchain/docs/ww1.pdf', 'page': 2}\n",
      "\n",
      "('The changes resulting from the First World War \\n'\n",
      " ' \\n'\n",
      " 'The human cost of the First World War was horrendous. More than 16 million '\n",
      " 'people, both \\n'\n",
      " 'military and civilian, died in the war. An entire generation of young men '\n",
      " 'was wiped away. In \\n'\n",
      " '1919, the year after the war was over in France, there were 15 women for ev '\n",
      " 'ery man \\n'\n",
      " 'between the ages of 18 and 30. It is tragic to consider all of the lost '\n",
      " 'potential, all of the \\n'\n",
      " 'writers, artists, teachers, inventors and leaders that were killed in ‘the '\n",
      " 'war to end all wars.’ \\n'\n",
      " 'But although the impact of the First World War was hugely destructive it '\n",
      " 'also produced many \\n'\n",
      " 'new developments in medicine, warfare, politics and social attitudes. \\n'\n",
      " '  \\n'\n",
      " 'The First World War changed the nature of warfare. Technology became an '\n",
      " 'essential \\n'\n",
      " 'element in the art of war with airplanes, submarines, tanks all pla ying '\n",
      " 'important new roles. \\n'\n",
      " 'Mass production techniques developed during the war for the building of '\n",
      " 'armaments')\n",
      "======================================================================================================================================================\n",
      "Document: 3, Metadata: {'source': '/home/bishwayansaha99/langchain/docs/ww1.pdf', 'page': 2}\n",
      "\n",
      "('Mass production techniques developed during the war for the building of '\n",
      " 'armaments \\n'\n",
      " 'revolutionised other industries in the post -war years. The first chemical '\n",
      " 'weapons were also \\n'\n",
      " 'used when the Germans used poisonous gas at Ypres in 191 5. A century later '\n",
      " 'the \\n'\n",
      " 'international community was seeking to prohibit President Assad of Syria '\n",
      " 'from using \\n'\n",
      " 'chemical weapons against his own people. The Great War also led to mass '\n",
      " 'armies based on \\n'\n",
      " 'conscription, a novel concept for Britain, although not on th e continent. '\n",
      " 'It is ironic that the \\n'\n",
      " 'principle of universal military service was introduced in Britain without '\n",
      " 'the adoption of \\n'\n",
      " 'universal adult male suffrage. The war also saw the first propaganda films, '\n",
      " 'some designed \\n'\n",
      " 'to help enlist US support for the Allies. The Charlie Chaplin film Shoulder '\n",
      " 'Arms offers a vivid')\n",
      "======================================================================================================================================================\n",
      "Document: 4, Metadata: {'source': '/home/bishwayansaha99/langchain/docs/ww1.pdf', 'page': 3}\n",
      "\n",
      "('The horrors of the Great War also gave an impulse to Christian socialism '\n",
      " 'with the rally cry of \\n'\n",
      " '‘never again’. It also forced women into jobs that had previously been a '\n",
      " 'male preserve.  \\n'\n",
      " 'Many of the women whom the war effort had forced out of domestic service and '\n",
      " 'into \\n'\n",
      " 'factories found themselves unwilling to relinquish their new independence. '\n",
      " 'The War thus \\n'\n",
      " 'gave a boost to demands for women’s emancipation.  The War also sparked a '\n",
      " 'peace \\n'\n",
      " 'movement that had disarmament as its main aim. It flourished briefly in the '\n",
      " 'inter -war years, \\n'\n",
      " 'was reborn during the Vietnam War and found many adherents in Europe e.g. '\n",
      " 'the campaign \\n'\n",
      " 'for nuclear disarmament (CND). Although less formally organised than during '\n",
      " 'the 1980s, the \\n'\n",
      " 'anti-war movement in Europe showed its strength in the mass demonstrations '\n",
      " 'agains t the \\n'\n",
      " 'US led invasion of Iraq in 2003. \\n'\n",
      " ' \\n'\n",
      " 'The war also had major consequences for the European socialist and labour '\n",
      " 'movement.')\n",
      "======================================================================================================================================================\n"
     ]
    }
   ],
   "source": [
    "normal_docs = retriever.get_relevant_documents(\"What changed after world war 1?\")\n",
    "print_documents(normal_docs)"
   ]
  },
  {
   "cell_type": "code",
   "execution_count": 17,
   "metadata": {},
   "outputs": [],
   "source": [
    "llm_chain_extractor = LLMChainExtractor.from_llm(model)\n",
    "chain_extractor_retriever = ContextualCompressionRetriever(base_compressor=llm_chain_extractor, base_retriever=retriever)"
   ]
  },
  {
   "cell_type": "code",
   "execution_count": 21,
   "metadata": {},
   "outputs": [
    {
     "name": "stdout",
     "output_type": "stream",
     "text": [
      "Document: 1, Metadata: {'source': '/home/bishwayansaha99/langchain/docs/ww1.pdf', 'page': 2}\n",
      "\n",
      "('> The changes resulting from the First World War \\n'\n",
      " '>> \\n'\n",
      " 'The impact of the First World War was hugely destructive it also produced '\n",
      " 'many \\n'\n",
      " 'new developments in medicine, warfare, politics and social attitudes.\\n'\n",
      " ' \\n'\n",
      " 'Technologies such as airplanes, submarines, tanks all pla ying important new '\n",
      " 'roles.')\n",
      "======================================================================================================================================================\n"
     ]
    }
   ],
   "source": [
    "compressed_docs_1 = chain_extractor_retriever.get_relevant_documents(\"What changed after world war 1?\")\n",
    "print_documents(compressed_docs_1)"
   ]
  },
  {
   "cell_type": "code",
   "execution_count": 28,
   "metadata": {},
   "outputs": [],
   "source": [
    "llm_chain_filter = LLMChainFilter.from_llm(model)\n",
    "chain_filter_retriever = ContextualCompressionRetriever(base_compressor=llm_chain_filter, base_retriever=retriever)"
   ]
  },
  {
   "cell_type": "code",
   "execution_count": 29,
   "metadata": {},
   "outputs": [
    {
     "name": "stdout",
     "output_type": "stream",
     "text": [
      "Document: 1, Metadata: {'source': '/home/bishwayansaha99/langchain/docs/ww1.pdf', 'page': 3}\n",
      "\n",
      "('The war also had major consequences for the European socialist and labour '\n",
      " 'movement. \\n'\n",
      " 'Although well organised in many countries, including Britain , France  and '\n",
      " 'Germany, the \\n'\n",
      " 'socialist movement failed to stop the war in 1 914. Initially skilled '\n",
      " 'workers in the armaments \\n'\n",
      " 'industry were not only exempted from military service but also enjoyed '\n",
      " 'higher wages and \\n'\n",
      " 'better food in return for the banning of strike action. But as the war '\n",
      " 'continued living and \\n'\n",
      " 'working conditions for facto ry workers gradually declined. Socialist groups '\n",
      " 'began to agitate \\n'\n",
      " 'for peace, a process that received a boost as a result of the 1917 Russian '\n",
      " 'revolution. At the \\n'\n",
      " 'end of the war in 1918 the socialist and trade union movement was much '\n",
      " 'stronger than in \\n'\n",
      " '1914. \\n'\n",
      " 'The Great War also saw the introduction of the planned economy and a much '\n",
      " 'bigger role for \\n'\n",
      " 'the state. Soon after the outbreak of war the German government took control '\n",
      " 'over banks,')\n",
      "======================================================================================================================================================\n",
      "Document: 2, Metadata: {'source': '/home/bishwayansaha99/langchain/docs/ww1.pdf', 'page': 2}\n",
      "\n",
      "('The changes resulting from the First World War \\n'\n",
      " ' \\n'\n",
      " 'The human cost of the First World War was horrendous. More than 16 million '\n",
      " 'people, both \\n'\n",
      " 'military and civilian, died in the war. An entire generation of young men '\n",
      " 'was wiped away. In \\n'\n",
      " '1919, the year after the war was over in France, there were 15 women for ev '\n",
      " 'ery man \\n'\n",
      " 'between the ages of 18 and 30. It is tragic to consider all of the lost '\n",
      " 'potential, all of the \\n'\n",
      " 'writers, artists, teachers, inventors and leaders that were killed in ‘the '\n",
      " 'war to end all wars.’ \\n'\n",
      " 'But although the impact of the First World War was hugely destructive it '\n",
      " 'also produced many \\n'\n",
      " 'new developments in medicine, warfare, politics and social attitudes. \\n'\n",
      " '  \\n'\n",
      " 'The First World War changed the nature of warfare. Technology became an '\n",
      " 'essential \\n'\n",
      " 'element in the art of war with airplanes, submarines, tanks all pla ying '\n",
      " 'important new roles. \\n'\n",
      " 'Mass production techniques developed during the war for the building of '\n",
      " 'armaments')\n",
      "======================================================================================================================================================\n",
      "Document: 3, Metadata: {'source': '/home/bishwayansaha99/langchain/docs/ww1.pdf', 'page': 2}\n",
      "\n",
      "('Mass production techniques developed during the war for the building of '\n",
      " 'armaments \\n'\n",
      " 'revolutionised other industries in the post -war years. The first chemical '\n",
      " 'weapons were also \\n'\n",
      " 'used when the Germans used poisonous gas at Ypres in 191 5. A century later '\n",
      " 'the \\n'\n",
      " 'international community was seeking to prohibit President Assad of Syria '\n",
      " 'from using \\n'\n",
      " 'chemical weapons against his own people. The Great War also led to mass '\n",
      " 'armies based on \\n'\n",
      " 'conscription, a novel concept for Britain, although not on th e continent. '\n",
      " 'It is ironic that the \\n'\n",
      " 'principle of universal military service was introduced in Britain without '\n",
      " 'the adoption of \\n'\n",
      " 'universal adult male suffrage. The war also saw the first propaganda films, '\n",
      " 'some designed \\n'\n",
      " 'to help enlist US support for the Allies. The Charlie Chaplin film Shoulder '\n",
      " 'Arms offers a vivid')\n",
      "======================================================================================================================================================\n",
      "Document: 4, Metadata: {'source': '/home/bishwayansaha99/langchain/docs/ww1.pdf', 'page': 3}\n",
      "\n",
      "('The horrors of the Great War also gave an impulse to Christian socialism '\n",
      " 'with the rally cry of \\n'\n",
      " '‘never again’. It also forced women into jobs that had previously been a '\n",
      " 'male preserve.  \\n'\n",
      " 'Many of the women whom the war effort had forced out of domestic service and '\n",
      " 'into \\n'\n",
      " 'factories found themselves unwilling to relinquish their new independence. '\n",
      " 'The War thus \\n'\n",
      " 'gave a boost to demands for women’s emancipation.  The War also sparked a '\n",
      " 'peace \\n'\n",
      " 'movement that had disarmament as its main aim. It flourished briefly in the '\n",
      " 'inter -war years, \\n'\n",
      " 'was reborn during the Vietnam War and found many adherents in Europe e.g. '\n",
      " 'the campaign \\n'\n",
      " 'for nuclear disarmament (CND). Although less formally organised than during '\n",
      " 'the 1980s, the \\n'\n",
      " 'anti-war movement in Europe showed its strength in the mass demonstrations '\n",
      " 'agains t the \\n'\n",
      " 'US led invasion of Iraq in 2003. \\n'\n",
      " ' \\n'\n",
      " 'The war also had major consequences for the European socialist and labour '\n",
      " 'movement.')\n",
      "======================================================================================================================================================\n"
     ]
    }
   ],
   "source": [
    "compressed_doc_2 = chain_filter_retriever.get_relevant_documents(\"What changed after world war 1?\")\n",
    "print_documents(compressed_doc_2)"
   ]
  },
  {
   "cell_type": "code",
   "execution_count": 30,
   "metadata": {},
   "outputs": [],
   "source": [
    "def get_content_length(docs):\n",
    "    print(f\"Content length: {len(\"\\n\".join([doc.page_content for doc in docs]))}\")"
   ]
  },
  {
   "cell_type": "code",
   "execution_count": 31,
   "metadata": {},
   "outputs": [
    {
     "name": "stdout",
     "output_type": "stream",
     "text": [
      "Content length: 3586\n",
      "Content length: 289\n",
      "Content length: 3586\n"
     ]
    }
   ],
   "source": [
    "get_content_length(normal_docs)\n",
    "get_content_length(compressed_docs_1)\n",
    "get_content_length(compressed_doc_2)"
   ]
  },
  {
   "cell_type": "code",
   "execution_count": 33,
   "metadata": {},
   "outputs": [],
   "source": [
    "embedding_filter = EmbeddingsFilter(embeddings=embedding, similarity_threshold=0.50)\n",
    "embedding_filter_retriever = ContextualCompressionRetriever(base_compressor=embedding_filter, base_retriever=retriever)"
   ]
  },
  {
   "cell_type": "code",
   "execution_count": 34,
   "metadata": {},
   "outputs": [
    {
     "name": "stdout",
     "output_type": "stream",
     "text": [
      "Document: 1, Metadata: {'source': '/home/bishwayansaha99/langchain/docs/ww1.pdf', 'page': 3}\n",
      "\n",
      "('The war also had major consequences for the European socialist and labour '\n",
      " 'movement. \\n'\n",
      " 'Although well organised in many countries, including Britain , France  and '\n",
      " 'Germany, the \\n'\n",
      " 'socialist movement failed to stop the war in 1 914. Initially skilled '\n",
      " 'workers in the armaments \\n'\n",
      " 'industry were not only exempted from military service but also enjoyed '\n",
      " 'higher wages and \\n'\n",
      " 'better food in return for the banning of strike action. But as the war '\n",
      " 'continued living and \\n'\n",
      " 'working conditions for facto ry workers gradually declined. Socialist groups '\n",
      " 'began to agitate \\n'\n",
      " 'for peace, a process that received a boost as a result of the 1917 Russian '\n",
      " 'revolution. At the \\n'\n",
      " 'end of the war in 1918 the socialist and trade union movement was much '\n",
      " 'stronger than in \\n'\n",
      " '1914. \\n'\n",
      " 'The Great War also saw the introduction of the planned economy and a much '\n",
      " 'bigger role for \\n'\n",
      " 'the state. Soon after the outbreak of war the German government took control '\n",
      " 'over banks,')\n",
      "======================================================================================================================================================\n",
      "Document: 2, Metadata: {'source': '/home/bishwayansaha99/langchain/docs/ww1.pdf', 'page': 2}\n",
      "\n",
      "('The changes resulting from the First World War \\n'\n",
      " ' \\n'\n",
      " 'The human cost of the First World War was horrendous. More than 16 million '\n",
      " 'people, both \\n'\n",
      " 'military and civilian, died in the war. An entire generation of young men '\n",
      " 'was wiped away. In \\n'\n",
      " '1919, the year after the war was over in France, there were 15 women for ev '\n",
      " 'ery man \\n'\n",
      " 'between the ages of 18 and 30. It is tragic to consider all of the lost '\n",
      " 'potential, all of the \\n'\n",
      " 'writers, artists, teachers, inventors and leaders that were killed in ‘the '\n",
      " 'war to end all wars.’ \\n'\n",
      " 'But although the impact of the First World War was hugely destructive it '\n",
      " 'also produced many \\n'\n",
      " 'new developments in medicine, warfare, politics and social attitudes. \\n'\n",
      " '  \\n'\n",
      " 'The First World War changed the nature of warfare. Technology became an '\n",
      " 'essential \\n'\n",
      " 'element in the art of war with airplanes, submarines, tanks all pla ying '\n",
      " 'important new roles. \\n'\n",
      " 'Mass production techniques developed during the war for the building of '\n",
      " 'armaments')\n",
      "======================================================================================================================================================\n",
      "Document: 3, Metadata: {'source': '/home/bishwayansaha99/langchain/docs/ww1.pdf', 'page': 2}\n",
      "\n",
      "('Mass production techniques developed during the war for the building of '\n",
      " 'armaments \\n'\n",
      " 'revolutionised other industries in the post -war years. The first chemical '\n",
      " 'weapons were also \\n'\n",
      " 'used when the Germans used poisonous gas at Ypres in 191 5. A century later '\n",
      " 'the \\n'\n",
      " 'international community was seeking to prohibit President Assad of Syria '\n",
      " 'from using \\n'\n",
      " 'chemical weapons against his own people. The Great War also led to mass '\n",
      " 'armies based on \\n'\n",
      " 'conscription, a novel concept for Britain, although not on th e continent. '\n",
      " 'It is ironic that the \\n'\n",
      " 'principle of universal military service was introduced in Britain without '\n",
      " 'the adoption of \\n'\n",
      " 'universal adult male suffrage. The war also saw the first propaganda films, '\n",
      " 'some designed \\n'\n",
      " 'to help enlist US support for the Allies. The Charlie Chaplin film Shoulder '\n",
      " 'Arms offers a vivid')\n",
      "======================================================================================================================================================\n",
      "Document: 4, Metadata: {'source': '/home/bishwayansaha99/langchain/docs/ww1.pdf', 'page': 3}\n",
      "\n",
      "('The horrors of the Great War also gave an impulse to Christian socialism '\n",
      " 'with the rally cry of \\n'\n",
      " '‘never again’. It also forced women into jobs that had previously been a '\n",
      " 'male preserve.  \\n'\n",
      " 'Many of the women whom the war effort had forced out of domestic service and '\n",
      " 'into \\n'\n",
      " 'factories found themselves unwilling to relinquish their new independence. '\n",
      " 'The War thus \\n'\n",
      " 'gave a boost to demands for women’s emancipation.  The War also sparked a '\n",
      " 'peace \\n'\n",
      " 'movement that had disarmament as its main aim. It flourished briefly in the '\n",
      " 'inter -war years, \\n'\n",
      " 'was reborn during the Vietnam War and found many adherents in Europe e.g. '\n",
      " 'the campaign \\n'\n",
      " 'for nuclear disarmament (CND). Although less formally organised than during '\n",
      " 'the 1980s, the \\n'\n",
      " 'anti-war movement in Europe showed its strength in the mass demonstrations '\n",
      " 'agains t the \\n'\n",
      " 'US led invasion of Iraq in 2003. \\n'\n",
      " ' \\n'\n",
      " 'The war also had major consequences for the European socialist and labour '\n",
      " 'movement.')\n",
      "======================================================================================================================================================\n"
     ]
    }
   ],
   "source": [
    "compressed_doc_3 = embedding_filter_retriever.get_relevant_documents(\"What changed after world war 1?\")\n",
    "print_documents(compressed_doc_3)"
   ]
  },
  {
   "cell_type": "code",
   "execution_count": 35,
   "metadata": {},
   "outputs": [
    {
     "name": "stdout",
     "output_type": "stream",
     "text": [
      "Content length: 3586\n"
     ]
    }
   ],
   "source": [
    "get_content_length(compressed_doc_3)"
   ]
  }
 ],
 "metadata": {
  "kernelspec": {
   "display_name": "venv",
   "language": "python",
   "name": "python3"
  },
  "language_info": {
   "codemirror_mode": {
    "name": "ipython",
    "version": 3
   },
   "file_extension": ".py",
   "mimetype": "text/x-python",
   "name": "python",
   "nbconvert_exporter": "python",
   "pygments_lexer": "ipython3",
   "version": "3.12.3"
  }
 },
 "nbformat": 4,
 "nbformat_minor": 2
}
